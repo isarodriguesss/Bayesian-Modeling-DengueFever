{
  "nbformat": 4,
  "nbformat_minor": 0,
  "metadata": {
    "colab": {
      "name": "Cópia de exploração_socio.ipynb",
      "provenance": [],
      "collapsed_sections": [
        "3adDOdehjqoN",
        "F15XEgGRjysK",
        "xR5s7IDPk1QN",
        "uPWjuVqpl_q-",
        "84BgdCs8moPG",
        "sWDvpyn-nB21",
        "RvIjBKjBRuAy",
        "t-DrS3bfR7qK",
        "84iJi8zNzxKT",
        "N11QP7TD5qtr",
        "v1_Hf5xF69qH",
        "sH0G_wy37bqd"
      ]
    },
    "kernelspec": {
      "name": "python3",
      "display_name": "Python 3"
    },
    "language_info": {
      "name": "python"
    }
  },
  "cells": [
    {
      "cell_type": "markdown",
      "metadata": {
        "id": "q5dIRGVWjeCq"
      },
      "source": [
        "#**Importing libraries**"
      ]
    },
    {
      "cell_type": "code",
      "metadata": {
        "id": "QEazE8-HUCZP"
      },
      "source": [
        "import pandas as pd\n",
        "import seaborn as sns\n",
        "import numpy as np\n",
        "from matplotlib import pyplot as plt\n",
        "import arviz as az \n",
        "import pymc3 as pm \n",
        "from sklearn.cluster import KMeans\n",
        "from sklearn.linear_model import LinearRegression\n",
        "from sklearn.preprocessing import MinMaxScaler\n",
        "from sklearn.decomposition import PCA\n",
        "from sklearn import linear_model\n"
      ],
      "execution_count": 4,
      "outputs": []
    },
    {
      "cell_type": "markdown",
      "metadata": {
        "id": "3adDOdehjqoN"
      },
      "source": [
        "#**Importing data**"
      ]
    },
    {
      "cell_type": "code",
      "metadata": {
        "id": "JiV4hVw_UgDc"
      },
      "source": [
        "socio = pd.read_csv(\"socioambiental_mun.csv\", sep=';', encoding=\"latin1\", low_memory=False,)\n",
        "\n",
        "dengue = pd.read_csv(\"prevalencia_2007_2017_mun.csv\", sep=';', low_memory=False,)\n",
        "\n",
        "pop = pd.read_excel(\"estimativa_municipios_TCU_2015.ods\",\n",
        "                             sheet_name=\"Municípios\", header=1).dropna()[[\"COD. UF\", \"NOME DO MUNICÍPIO\", \"POPULAÇÃO ESTIMADA\"]]\n",
        "pop = pop.loc[pop['COD. UF'] == 27.0]\n",
        "\n",
        "# setting float values\n",
        "socio['lixo']    = socio['lixo'].apply(lambda x: float(str(x).replace(',', '.')))\n",
        "socio['esgoto']  = socio['esgoto'].apply(lambda x: float(str(x).replace(',', '.')))\n",
        "socio['estudo']  = socio['estudo'].apply(lambda x: float(str(x).replace(',', '.')))\n",
        "socio['salario'] = socio['salario'].apply(lambda x: float(str(x).replace(',', '.')))\n",
        "\n",
        "# solving na values\n",
        "socio.drop(socio.index[-1], axis=0, inplace=True)\n",
        "socio.fillna(socio['estudo'].mean(), inplace=True)"
      ],
      "execution_count": 5,
      "outputs": []
    },
    {
      "cell_type": "markdown",
      "source": [
        "# **Merging the datas**"
      ],
      "metadata": {
        "id": "ZgIhnH7jAnMU"
      }
    },
    {
      "cell_type": "markdown",
      "source": [
        "Now we have data about socio-environmental, estimated population and number of dengue cases of which municipiality, it's necessery to merge these informations and create an incidence rate."
      ],
      "metadata": {
        "id": "Zt-tcNyqrt3W"
      }
    },
    {
      "cell_type": "markdown",
      "source": [
        "## Merging socio-environmental and estimated population"
      ],
      "metadata": {
        "id": "JBKBLfR-s2im"
      }
    },
    {
      "cell_type": "code",
      "source": [
        "mergepop = pd.merge(pop, socio, left_on=\"NOME DO MUNICÍPIO\", right_on=\"municipio\").drop(\n",
        "    [\"COD. UF\", \"NOME DO MUNICÍPIO\"], axis=1).rename({\n",
        "        \"POPULAÇÃO ESTIMADA\": \"pop estimada\"\n",
        "    }, axis=1)\n",
        "mergepop"
      ],
      "metadata": {
        "colab": {
          "base_uri": "https://localhost:8080/",
          "height": 424
        },
        "id": "PBVSZwXwAY7c",
        "outputId": "b3edb8d8-3ab6-4d30-8a2e-b34754500a0d"
      },
      "execution_count": 6,
      "outputs": [
        {
          "output_type": "execute_result",
          "data": {
            "text/html": [
              "\n",
              "  <div id=\"df-78c687e7-276e-44fb-8ebc-2ec9ad5a7f70\">\n",
              "    <div class=\"colab-df-container\">\n",
              "      <div>\n",
              "<style scoped>\n",
              "    .dataframe tbody tr th:only-of-type {\n",
              "        vertical-align: middle;\n",
              "    }\n",
              "\n",
              "    .dataframe tbody tr th {\n",
              "        vertical-align: top;\n",
              "    }\n",
              "\n",
              "    .dataframe thead th {\n",
              "        text-align: right;\n",
              "    }\n",
              "</style>\n",
              "<table border=\"1\" class=\"dataframe\">\n",
              "  <thead>\n",
              "    <tr style=\"text-align: right;\">\n",
              "      <th></th>\n",
              "      <th>pop estimada</th>\n",
              "      <th>municipio</th>\n",
              "      <th>lixo</th>\n",
              "      <th>esgoto</th>\n",
              "      <th>estudo</th>\n",
              "      <th>salario</th>\n",
              "    </tr>\n",
              "  </thead>\n",
              "  <tbody>\n",
              "    <tr>\n",
              "      <th>0</th>\n",
              "      <td>20434</td>\n",
              "      <td>Água Branca</td>\n",
              "      <td>63.68</td>\n",
              "      <td>70.12</td>\n",
              "      <td>77.04000</td>\n",
              "      <td>93.75</td>\n",
              "    </tr>\n",
              "    <tr>\n",
              "      <th>1</th>\n",
              "      <td>17847</td>\n",
              "      <td>Anadia</td>\n",
              "      <td>18.35</td>\n",
              "      <td>80.93</td>\n",
              "      <td>73.81000</td>\n",
              "      <td>89.70</td>\n",
              "    </tr>\n",
              "    <tr>\n",
              "      <th>2</th>\n",
              "      <td>231053</td>\n",
              "      <td>Arapiraca</td>\n",
              "      <td>8.73</td>\n",
              "      <td>80.79</td>\n",
              "      <td>58.06000</td>\n",
              "      <td>91.51</td>\n",
              "    </tr>\n",
              "    <tr>\n",
              "      <th>3</th>\n",
              "      <td>47298</td>\n",
              "      <td>Atalaia</td>\n",
              "      <td>23.25</td>\n",
              "      <td>75.71</td>\n",
              "      <td>72.34000</td>\n",
              "      <td>90.14</td>\n",
              "    </tr>\n",
              "    <tr>\n",
              "      <th>4</th>\n",
              "      <td>15742</td>\n",
              "      <td>Barra de Santo Antônio</td>\n",
              "      <td>11.97</td>\n",
              "      <td>76.38</td>\n",
              "      <td>66.47000</td>\n",
              "      <td>89.95</td>\n",
              "    </tr>\n",
              "    <tr>\n",
              "      <th>...</th>\n",
              "      <td>...</td>\n",
              "      <td>...</td>\n",
              "      <td>...</td>\n",
              "      <td>...</td>\n",
              "      <td>...</td>\n",
              "      <td>...</td>\n",
              "    </tr>\n",
              "    <tr>\n",
              "      <th>97</th>\n",
              "      <td>19980</td>\n",
              "      <td>Taquarana</td>\n",
              "      <td>56.00</td>\n",
              "      <td>90.59</td>\n",
              "      <td>73.66000</td>\n",
              "      <td>94.52</td>\n",
              "    </tr>\n",
              "    <tr>\n",
              "      <th>98</th>\n",
              "      <td>44169</td>\n",
              "      <td>Teotônio Vilela</td>\n",
              "      <td>8.77</td>\n",
              "      <td>52.51</td>\n",
              "      <td>81.61000</td>\n",
              "      <td>91.57</td>\n",
              "    </tr>\n",
              "    <tr>\n",
              "      <th>99</th>\n",
              "      <td>27798</td>\n",
              "      <td>Traipu</td>\n",
              "      <td>71.45</td>\n",
              "      <td>89.71</td>\n",
              "      <td>69.95000</td>\n",
              "      <td>84.55</td>\n",
              "    </tr>\n",
              "    <tr>\n",
              "      <th>100</th>\n",
              "      <td>66017</td>\n",
              "      <td>União dos Palmares</td>\n",
              "      <td>20.43</td>\n",
              "      <td>34.71</td>\n",
              "      <td>70.53000</td>\n",
              "      <td>91.15</td>\n",
              "    </tr>\n",
              "    <tr>\n",
              "      <th>101</th>\n",
              "      <td>26212</td>\n",
              "      <td>Viçosa</td>\n",
              "      <td>20.73</td>\n",
              "      <td>68.10</td>\n",
              "      <td>73.39703</td>\n",
              "      <td>82.45</td>\n",
              "    </tr>\n",
              "  </tbody>\n",
              "</table>\n",
              "<p>102 rows × 6 columns</p>\n",
              "</div>\n",
              "      <button class=\"colab-df-convert\" onclick=\"convertToInteractive('df-78c687e7-276e-44fb-8ebc-2ec9ad5a7f70')\"\n",
              "              title=\"Convert this dataframe to an interactive table.\"\n",
              "              style=\"display:none;\">\n",
              "        \n",
              "  <svg xmlns=\"http://www.w3.org/2000/svg\" height=\"24px\"viewBox=\"0 0 24 24\"\n",
              "       width=\"24px\">\n",
              "    <path d=\"M0 0h24v24H0V0z\" fill=\"none\"/>\n",
              "    <path d=\"M18.56 5.44l.94 2.06.94-2.06 2.06-.94-2.06-.94-.94-2.06-.94 2.06-2.06.94zm-11 1L8.5 8.5l.94-2.06 2.06-.94-2.06-.94L8.5 2.5l-.94 2.06-2.06.94zm10 10l.94 2.06.94-2.06 2.06-.94-2.06-.94-.94-2.06-.94 2.06-2.06.94z\"/><path d=\"M17.41 7.96l-1.37-1.37c-.4-.4-.92-.59-1.43-.59-.52 0-1.04.2-1.43.59L10.3 9.45l-7.72 7.72c-.78.78-.78 2.05 0 2.83L4 21.41c.39.39.9.59 1.41.59.51 0 1.02-.2 1.41-.59l7.78-7.78 2.81-2.81c.8-.78.8-2.07 0-2.86zM5.41 20L4 18.59l7.72-7.72 1.47 1.35L5.41 20z\"/>\n",
              "  </svg>\n",
              "      </button>\n",
              "      \n",
              "  <style>\n",
              "    .colab-df-container {\n",
              "      display:flex;\n",
              "      flex-wrap:wrap;\n",
              "      gap: 12px;\n",
              "    }\n",
              "\n",
              "    .colab-df-convert {\n",
              "      background-color: #E8F0FE;\n",
              "      border: none;\n",
              "      border-radius: 50%;\n",
              "      cursor: pointer;\n",
              "      display: none;\n",
              "      fill: #1967D2;\n",
              "      height: 32px;\n",
              "      padding: 0 0 0 0;\n",
              "      width: 32px;\n",
              "    }\n",
              "\n",
              "    .colab-df-convert:hover {\n",
              "      background-color: #E2EBFA;\n",
              "      box-shadow: 0px 1px 2px rgba(60, 64, 67, 0.3), 0px 1px 3px 1px rgba(60, 64, 67, 0.15);\n",
              "      fill: #174EA6;\n",
              "    }\n",
              "\n",
              "    [theme=dark] .colab-df-convert {\n",
              "      background-color: #3B4455;\n",
              "      fill: #D2E3FC;\n",
              "    }\n",
              "\n",
              "    [theme=dark] .colab-df-convert:hover {\n",
              "      background-color: #434B5C;\n",
              "      box-shadow: 0px 1px 3px 1px rgba(0, 0, 0, 0.15);\n",
              "      filter: drop-shadow(0px 1px 2px rgba(0, 0, 0, 0.3));\n",
              "      fill: #FFFFFF;\n",
              "    }\n",
              "  </style>\n",
              "\n",
              "      <script>\n",
              "        const buttonEl =\n",
              "          document.querySelector('#df-78c687e7-276e-44fb-8ebc-2ec9ad5a7f70 button.colab-df-convert');\n",
              "        buttonEl.style.display =\n",
              "          google.colab.kernel.accessAllowed ? 'block' : 'none';\n",
              "\n",
              "        async function convertToInteractive(key) {\n",
              "          const element = document.querySelector('#df-78c687e7-276e-44fb-8ebc-2ec9ad5a7f70');\n",
              "          const dataTable =\n",
              "            await google.colab.kernel.invokeFunction('convertToInteractive',\n",
              "                                                     [key], {});\n",
              "          if (!dataTable) return;\n",
              "\n",
              "          const docLinkHtml = 'Like what you see? Visit the ' +\n",
              "            '<a target=\"_blank\" href=https://colab.research.google.com/notebooks/data_table.ipynb>data table notebook</a>'\n",
              "            + ' to learn more about interactive tables.';\n",
              "          element.innerHTML = '';\n",
              "          dataTable['output_type'] = 'display_data';\n",
              "          await google.colab.output.renderOutput(dataTable, element);\n",
              "          const docLink = document.createElement('div');\n",
              "          docLink.innerHTML = docLinkHtml;\n",
              "          element.appendChild(docLink);\n",
              "        }\n",
              "      </script>\n",
              "    </div>\n",
              "  </div>\n",
              "  "
            ],
            "text/plain": [
              "    pop estimada               municipio   lixo  esgoto    estudo  salario\n",
              "0          20434             Água Branca  63.68   70.12  77.04000    93.75\n",
              "1          17847                  Anadia  18.35   80.93  73.81000    89.70\n",
              "2         231053               Arapiraca   8.73   80.79  58.06000    91.51\n",
              "3          47298                 Atalaia  23.25   75.71  72.34000    90.14\n",
              "4          15742  Barra de Santo Antônio  11.97   76.38  66.47000    89.95\n",
              "..           ...                     ...    ...     ...       ...      ...\n",
              "97         19980               Taquarana  56.00   90.59  73.66000    94.52\n",
              "98         44169         Teotônio Vilela   8.77   52.51  81.61000    91.57\n",
              "99         27798                  Traipu  71.45   89.71  69.95000    84.55\n",
              "100        66017      União dos Palmares  20.43   34.71  70.53000    91.15\n",
              "101        26212                  Viçosa  20.73   68.10  73.39703    82.45\n",
              "\n",
              "[102 rows x 6 columns]"
            ]
          },
          "metadata": {},
          "execution_count": 6
        }
      ]
    },
    {
      "cell_type": "markdown",
      "source": [
        "## Merging and creating the incidence rate"
      ],
      "metadata": {
        "id": "9HUQB9vOAtQF"
      }
    },
    {
      "cell_type": "code",
      "source": [
        "merge_prev = pd.merge(mergepop, dengue, on='municipio', how='left')\n",
        "merge_prev['total '].fillna(0, inplace=True)\n",
        "merge_prev[\"incidence rate\"] = merge_prev['total '] / merge_prev['pop estimada']\n",
        "merge_prev['incidence rate'] = merge_prev['incidence rate'].astype(float)\n",
        "merge_prev['incidence rate'] = round(merge_prev['incidence rate'], 3)\n",
        "merge_prev.sort_values('incidence rate', ascending=False)"
      ],
      "metadata": {
        "colab": {
          "base_uri": "https://localhost:8080/",
          "height": 502
        },
        "id": "NrB9vuSSAhmf",
        "outputId": "c0e0919b-31cb-4f00-cb15-796b909c8708"
      },
      "execution_count": 7,
      "outputs": [
        {
          "output_type": "execute_result",
          "data": {
            "text/html": [
              "\n",
              "  <div id=\"df-99f61fcb-395f-4890-9987-6381f3ad7474\">\n",
              "    <div class=\"colab-df-container\">\n",
              "      <div>\n",
              "<style scoped>\n",
              "    .dataframe tbody tr th:only-of-type {\n",
              "        vertical-align: middle;\n",
              "    }\n",
              "\n",
              "    .dataframe tbody tr th {\n",
              "        vertical-align: top;\n",
              "    }\n",
              "\n",
              "    .dataframe thead th {\n",
              "        text-align: right;\n",
              "    }\n",
              "</style>\n",
              "<table border=\"1\" class=\"dataframe\">\n",
              "  <thead>\n",
              "    <tr style=\"text-align: right;\">\n",
              "      <th></th>\n",
              "      <th>pop estimada</th>\n",
              "      <th>municipio</th>\n",
              "      <th>lixo</th>\n",
              "      <th>esgoto</th>\n",
              "      <th>estudo</th>\n",
              "      <th>salario</th>\n",
              "      <th>cod</th>\n",
              "      <th>Jan</th>\n",
              "      <th>Fev</th>\n",
              "      <th>Mar</th>\n",
              "      <th>Abr</th>\n",
              "      <th>Mai</th>\n",
              "      <th>Jun</th>\n",
              "      <th>Jul</th>\n",
              "      <th>Ago</th>\n",
              "      <th>Set</th>\n",
              "      <th>Out</th>\n",
              "      <th>Nov</th>\n",
              "      <th>Dez</th>\n",
              "      <th>total</th>\n",
              "      <th>incidence rate</th>\n",
              "    </tr>\n",
              "  </thead>\n",
              "  <tbody>\n",
              "    <tr>\n",
              "      <th>2</th>\n",
              "      <td>231053</td>\n",
              "      <td>Arapiraca</td>\n",
              "      <td>8.73</td>\n",
              "      <td>80.79</td>\n",
              "      <td>58.06</td>\n",
              "      <td>91.51</td>\n",
              "      <td>270030</td>\n",
              "      <td>2119</td>\n",
              "      <td>2097</td>\n",
              "      <td>4674</td>\n",
              "      <td>5675</td>\n",
              "      <td>3808</td>\n",
              "      <td>3857</td>\n",
              "      <td>2426</td>\n",
              "      <td>1824</td>\n",
              "      <td>1500</td>\n",
              "      <td>1517</td>\n",
              "      <td>2500</td>\n",
              "      <td>2451</td>\n",
              "      <td>34448</td>\n",
              "      <td>0.149</td>\n",
              "    </tr>\n",
              "    <tr>\n",
              "      <th>53</th>\n",
              "      <td>25590</td>\n",
              "      <td>Mata Grande</td>\n",
              "      <td>67.59</td>\n",
              "      <td>78.21</td>\n",
              "      <td>69.99</td>\n",
              "      <td>86.84</td>\n",
              "      <td>270500</td>\n",
              "      <td>632</td>\n",
              "      <td>353</td>\n",
              "      <td>491</td>\n",
              "      <td>527</td>\n",
              "      <td>318</td>\n",
              "      <td>91</td>\n",
              "      <td>34</td>\n",
              "      <td>31</td>\n",
              "      <td>96</td>\n",
              "      <td>107</td>\n",
              "      <td>259</td>\n",
              "      <td>422</td>\n",
              "      <td>3361</td>\n",
              "      <td>0.131</td>\n",
              "    </tr>\n",
              "    <tr>\n",
              "      <th>66</th>\n",
              "      <td>73878</td>\n",
              "      <td>Palmeira dos Índios</td>\n",
              "      <td>30.85</td>\n",
              "      <td>86.25</td>\n",
              "      <td>69.75</td>\n",
              "      <td>89.85</td>\n",
              "      <td>270630</td>\n",
              "      <td>425</td>\n",
              "      <td>497</td>\n",
              "      <td>1479</td>\n",
              "      <td>1905</td>\n",
              "      <td>1663</td>\n",
              "      <td>1030</td>\n",
              "      <td>460</td>\n",
              "      <td>390</td>\n",
              "      <td>329</td>\n",
              "      <td>511</td>\n",
              "      <td>719</td>\n",
              "      <td>121</td>\n",
              "      <td>9529</td>\n",
              "      <td>0.129</td>\n",
              "    </tr>\n",
              "    <tr>\n",
              "      <th>35</th>\n",
              "      <td>18621</td>\n",
              "      <td>Inhapi</td>\n",
              "      <td>53.25</td>\n",
              "      <td>86.21</td>\n",
              "      <td>86.24</td>\n",
              "      <td>86.73</td>\n",
              "      <td>270330</td>\n",
              "      <td>88</td>\n",
              "      <td>189</td>\n",
              "      <td>161</td>\n",
              "      <td>84</td>\n",
              "      <td>53</td>\n",
              "      <td>14</td>\n",
              "      <td>20</td>\n",
              "      <td>46</td>\n",
              "      <td>437</td>\n",
              "      <td>398</td>\n",
              "      <td>375</td>\n",
              "      <td>133</td>\n",
              "      <td>1998</td>\n",
              "      <td>0.107</td>\n",
              "    </tr>\n",
              "    <tr>\n",
              "      <th>49</th>\n",
              "      <td>32171</td>\n",
              "      <td>Maragogi</td>\n",
              "      <td>47.53</td>\n",
              "      <td>86.40</td>\n",
              "      <td>59.42</td>\n",
              "      <td>90.73</td>\n",
              "      <td>270450</td>\n",
              "      <td>28</td>\n",
              "      <td>108</td>\n",
              "      <td>440</td>\n",
              "      <td>761</td>\n",
              "      <td>907</td>\n",
              "      <td>421</td>\n",
              "      <td>359</td>\n",
              "      <td>103</td>\n",
              "      <td>47</td>\n",
              "      <td>38</td>\n",
              "      <td>37</td>\n",
              "      <td>20</td>\n",
              "      <td>3269</td>\n",
              "      <td>0.102</td>\n",
              "    </tr>\n",
              "    <tr>\n",
              "      <th>...</th>\n",
              "      <td>...</td>\n",
              "      <td>...</td>\n",
              "      <td>...</td>\n",
              "      <td>...</td>\n",
              "      <td>...</td>\n",
              "      <td>...</td>\n",
              "      <td>...</td>\n",
              "      <td>...</td>\n",
              "      <td>...</td>\n",
              "      <td>...</td>\n",
              "      <td>...</td>\n",
              "      <td>...</td>\n",
              "      <td>...</td>\n",
              "      <td>...</td>\n",
              "      <td>...</td>\n",
              "      <td>...</td>\n",
              "      <td>...</td>\n",
              "      <td>...</td>\n",
              "      <td>...</td>\n",
              "      <td>...</td>\n",
              "      <td>...</td>\n",
              "    </tr>\n",
              "    <tr>\n",
              "      <th>79</th>\n",
              "      <td>8151</td>\n",
              "      <td>Porto de Pedras</td>\n",
              "      <td>54.11</td>\n",
              "      <td>95.37</td>\n",
              "      <td>74.59</td>\n",
              "      <td>92.55</td>\n",
              "      <td>270740</td>\n",
              "      <td>1</td>\n",
              "      <td>0</td>\n",
              "      <td>7</td>\n",
              "      <td>4</td>\n",
              "      <td>10</td>\n",
              "      <td>6</td>\n",
              "      <td>3</td>\n",
              "      <td>3</td>\n",
              "      <td>1</td>\n",
              "      <td>2</td>\n",
              "      <td>1</td>\n",
              "      <td>1</td>\n",
              "      <td>39</td>\n",
              "      <td>0.005</td>\n",
              "    </tr>\n",
              "    <tr>\n",
              "      <th>48</th>\n",
              "      <td>3622</td>\n",
              "      <td>Mar Vermelho</td>\n",
              "      <td>34.60</td>\n",
              "      <td>61.76</td>\n",
              "      <td>81.45</td>\n",
              "      <td>88.87</td>\n",
              "      <td>270490</td>\n",
              "      <td>1</td>\n",
              "      <td>0</td>\n",
              "      <td>2</td>\n",
              "      <td>3</td>\n",
              "      <td>2</td>\n",
              "      <td>1</td>\n",
              "      <td>3</td>\n",
              "      <td>3</td>\n",
              "      <td>0</td>\n",
              "      <td>1</td>\n",
              "      <td>0</td>\n",
              "      <td>0</td>\n",
              "      <td>16</td>\n",
              "      <td>0.004</td>\n",
              "    </tr>\n",
              "    <tr>\n",
              "      <th>42</th>\n",
              "      <td>4269</td>\n",
              "      <td>Jundiá</td>\n",
              "      <td>34.25</td>\n",
              "      <td>95.82</td>\n",
              "      <td>73.38</td>\n",
              "      <td>93.55</td>\n",
              "      <td>270390</td>\n",
              "      <td>3</td>\n",
              "      <td>0</td>\n",
              "      <td>0</td>\n",
              "      <td>0</td>\n",
              "      <td>2</td>\n",
              "      <td>3</td>\n",
              "      <td>5</td>\n",
              "      <td>0</td>\n",
              "      <td>0</td>\n",
              "      <td>0</td>\n",
              "      <td>1</td>\n",
              "      <td>3</td>\n",
              "      <td>17</td>\n",
              "      <td>0.004</td>\n",
              "    </tr>\n",
              "    <tr>\n",
              "      <th>23</th>\n",
              "      <td>56631</td>\n",
              "      <td>Coruripe</td>\n",
              "      <td>12.19</td>\n",
              "      <td>83.33</td>\n",
              "      <td>65.58</td>\n",
              "      <td>90.53</td>\n",
              "      <td>270230</td>\n",
              "      <td>14</td>\n",
              "      <td>23</td>\n",
              "      <td>28</td>\n",
              "      <td>30</td>\n",
              "      <td>29</td>\n",
              "      <td>25</td>\n",
              "      <td>43</td>\n",
              "      <td>19</td>\n",
              "      <td>14</td>\n",
              "      <td>6</td>\n",
              "      <td>4</td>\n",
              "      <td>2</td>\n",
              "      <td>237</td>\n",
              "      <td>0.004</td>\n",
              "    </tr>\n",
              "    <tr>\n",
              "      <th>32</th>\n",
              "      <td>15803</td>\n",
              "      <td>Ibateguara</td>\n",
              "      <td>16.32</td>\n",
              "      <td>41.14</td>\n",
              "      <td>82.63</td>\n",
              "      <td>90.30</td>\n",
              "      <td>270300</td>\n",
              "      <td>3</td>\n",
              "      <td>1</td>\n",
              "      <td>1</td>\n",
              "      <td>4</td>\n",
              "      <td>5</td>\n",
              "      <td>9</td>\n",
              "      <td>6</td>\n",
              "      <td>2</td>\n",
              "      <td>1</td>\n",
              "      <td>0</td>\n",
              "      <td>0</td>\n",
              "      <td>3</td>\n",
              "      <td>35</td>\n",
              "      <td>0.002</td>\n",
              "    </tr>\n",
              "  </tbody>\n",
              "</table>\n",
              "<p>102 rows × 21 columns</p>\n",
              "</div>\n",
              "      <button class=\"colab-df-convert\" onclick=\"convertToInteractive('df-99f61fcb-395f-4890-9987-6381f3ad7474')\"\n",
              "              title=\"Convert this dataframe to an interactive table.\"\n",
              "              style=\"display:none;\">\n",
              "        \n",
              "  <svg xmlns=\"http://www.w3.org/2000/svg\" height=\"24px\"viewBox=\"0 0 24 24\"\n",
              "       width=\"24px\">\n",
              "    <path d=\"M0 0h24v24H0V0z\" fill=\"none\"/>\n",
              "    <path d=\"M18.56 5.44l.94 2.06.94-2.06 2.06-.94-2.06-.94-.94-2.06-.94 2.06-2.06.94zm-11 1L8.5 8.5l.94-2.06 2.06-.94-2.06-.94L8.5 2.5l-.94 2.06-2.06.94zm10 10l.94 2.06.94-2.06 2.06-.94-2.06-.94-.94-2.06-.94 2.06-2.06.94z\"/><path d=\"M17.41 7.96l-1.37-1.37c-.4-.4-.92-.59-1.43-.59-.52 0-1.04.2-1.43.59L10.3 9.45l-7.72 7.72c-.78.78-.78 2.05 0 2.83L4 21.41c.39.39.9.59 1.41.59.51 0 1.02-.2 1.41-.59l7.78-7.78 2.81-2.81c.8-.78.8-2.07 0-2.86zM5.41 20L4 18.59l7.72-7.72 1.47 1.35L5.41 20z\"/>\n",
              "  </svg>\n",
              "      </button>\n",
              "      \n",
              "  <style>\n",
              "    .colab-df-container {\n",
              "      display:flex;\n",
              "      flex-wrap:wrap;\n",
              "      gap: 12px;\n",
              "    }\n",
              "\n",
              "    .colab-df-convert {\n",
              "      background-color: #E8F0FE;\n",
              "      border: none;\n",
              "      border-radius: 50%;\n",
              "      cursor: pointer;\n",
              "      display: none;\n",
              "      fill: #1967D2;\n",
              "      height: 32px;\n",
              "      padding: 0 0 0 0;\n",
              "      width: 32px;\n",
              "    }\n",
              "\n",
              "    .colab-df-convert:hover {\n",
              "      background-color: #E2EBFA;\n",
              "      box-shadow: 0px 1px 2px rgba(60, 64, 67, 0.3), 0px 1px 3px 1px rgba(60, 64, 67, 0.15);\n",
              "      fill: #174EA6;\n",
              "    }\n",
              "\n",
              "    [theme=dark] .colab-df-convert {\n",
              "      background-color: #3B4455;\n",
              "      fill: #D2E3FC;\n",
              "    }\n",
              "\n",
              "    [theme=dark] .colab-df-convert:hover {\n",
              "      background-color: #434B5C;\n",
              "      box-shadow: 0px 1px 3px 1px rgba(0, 0, 0, 0.15);\n",
              "      filter: drop-shadow(0px 1px 2px rgba(0, 0, 0, 0.3));\n",
              "      fill: #FFFFFF;\n",
              "    }\n",
              "  </style>\n",
              "\n",
              "      <script>\n",
              "        const buttonEl =\n",
              "          document.querySelector('#df-99f61fcb-395f-4890-9987-6381f3ad7474 button.colab-df-convert');\n",
              "        buttonEl.style.display =\n",
              "          google.colab.kernel.accessAllowed ? 'block' : 'none';\n",
              "\n",
              "        async function convertToInteractive(key) {\n",
              "          const element = document.querySelector('#df-99f61fcb-395f-4890-9987-6381f3ad7474');\n",
              "          const dataTable =\n",
              "            await google.colab.kernel.invokeFunction('convertToInteractive',\n",
              "                                                     [key], {});\n",
              "          if (!dataTable) return;\n",
              "\n",
              "          const docLinkHtml = 'Like what you see? Visit the ' +\n",
              "            '<a target=\"_blank\" href=https://colab.research.google.com/notebooks/data_table.ipynb>data table notebook</a>'\n",
              "            + ' to learn more about interactive tables.';\n",
              "          element.innerHTML = '';\n",
              "          dataTable['output_type'] = 'display_data';\n",
              "          await google.colab.output.renderOutput(dataTable, element);\n",
              "          const docLink = document.createElement('div');\n",
              "          docLink.innerHTML = docLinkHtml;\n",
              "          element.appendChild(docLink);\n",
              "        }\n",
              "      </script>\n",
              "    </div>\n",
              "  </div>\n",
              "  "
            ],
            "text/plain": [
              "   pop estimada            municipio   lixo  ...   Dez  total   incidence rate\n",
              "2        231053            Arapiraca   8.73  ...  2451   34448           0.149\n",
              "53        25590          Mata Grande  67.59  ...   422    3361           0.131\n",
              "66        73878  Palmeira dos Índios  30.85  ...   121    9529           0.129\n",
              "35        18621               Inhapi  53.25  ...   133    1998           0.107\n",
              "49        32171             Maragogi  47.53  ...    20    3269           0.102\n",
              "..          ...                  ...    ...  ...   ...     ...             ...\n",
              "79         8151      Porto de Pedras  54.11  ...     1      39           0.005\n",
              "48         3622         Mar Vermelho  34.60  ...     0      16           0.004\n",
              "42         4269               Jundiá  34.25  ...     3      17           0.004\n",
              "23        56631             Coruripe  12.19  ...     2     237           0.004\n",
              "32        15803           Ibateguara  16.32  ...     3      35           0.002\n",
              "\n",
              "[102 rows x 21 columns]"
            ]
          },
          "metadata": {},
          "execution_count": 7
        }
      ]
    },
    {
      "cell_type": "markdown",
      "metadata": {
        "id": "xR5s7IDPk1QN"
      },
      "source": [
        "#**Clustering the variables and creating a socio-environmental deficiency index**"
      ]
    },
    {
      "cell_type": "markdown",
      "source": [
        "Before building a predictive model, we create a socio-environmental deficiency index through principal component analysis (PCA). "
      ],
      "metadata": {
        "id": "Jhk-3YPbvGqC"
      }
    },
    {
      "cell_type": "markdown",
      "metadata": {
        "id": "IA76Jbtqk5ql"
      },
      "source": [
        "Subset including variables to be clustered"
      ]
    },
    {
      "cell_type": "code",
      "metadata": {
        "id": "G_LZdOKC9JNF"
      },
      "source": [
        "subset = merge_prev[[\"lixo\", \"esgoto\",\t\"estudo\",\t\"salario\"]]"
      ],
      "execution_count": 8,
      "outputs": []
    },
    {
      "cell_type": "markdown",
      "metadata": {
        "id": "pWHVJF08k_gF"
      },
      "source": [
        "Principal component analysis"
      ]
    },
    {
      "cell_type": "code",
      "metadata": {
        "colab": {
          "base_uri": "https://localhost:8080/"
        },
        "id": "hBW34PaV3A5e",
        "outputId": "a4323a91-386c-4dad-c504-b86e9d294fd1"
      },
      "source": [
        "pca = PCA()\n",
        "pca.fit(subset).explained_variance_ratio_"
      ],
      "execution_count": 9,
      "outputs": [
        {
          "output_type": "execute_result",
          "data": {
            "text/plain": [
              "array([0.66027351, 0.24217146, 0.08827609, 0.00927894])"
            ]
          },
          "metadata": {},
          "execution_count": 9
        }
      ]
    },
    {
      "cell_type": "code",
      "metadata": {
        "id": "F3PceAt43nvQ"
      },
      "source": [
        "kmeans = KMeans(n_clusters=3, random_state=0).fit(subset)\n",
        "\n",
        "cluster_map = pd.DataFrame()\n",
        "cluster_map['data_index'] = subset.index.values\n",
        "cluster_map['cluster'] = kmeans.labels_\n",
        "\n",
        "cluster_map['cluster'].value_counts()\n",
        "subset.loc[cluster_map['cluster'] == 2].describe()\n",
        "\n",
        "merge_prev['cluster'] = kmeans.labels_"
      ],
      "execution_count": 10,
      "outputs": []
    },
    {
      "cell_type": "markdown",
      "metadata": {
        "id": "l6lRnoAWlFzM"
      },
      "source": [
        "Cluster x incidence rate plot"
      ]
    },
    {
      "cell_type": "code",
      "metadata": {
        "colab": {
          "base_uri": "https://localhost:8080/",
          "height": 455
        },
        "id": "7faZUPJdQDeV",
        "outputId": "dc1612e3-6852-4705-b317-9a971077ca7d"
      },
      "source": [
        "fig, ax = plt.subplots(figsize=(5, 5), dpi=100)\n",
        "plt.scatter(merge_prev['cluster'], merge_prev['incidence rate'])"
      ],
      "execution_count": null,
      "outputs": [
        {
          "output_type": "execute_result",
          "data": {
            "text/plain": [
              "<matplotlib.collections.PathCollection at 0x7f0461e088d0>"
            ]
          },
          "metadata": {},
          "execution_count": 16
        },
        {
          "output_type": "display_data",
          "data": {
            "image/png": "[encoded data removed]",
            "text/plain": [
              "<Figure size 500x500 with 1 Axes>"
            ]
          },
          "metadata": {
            "needs_background": "light"
          }
        }
      ]
    },
    {
      "cell_type": "markdown",
      "metadata": {
        "id": "kp7winrtlP1n"
      },
      "source": [
        "Analysing the avarage and variance of varible values, we can index which cluster and define it's socio-environmental deficiency."
      ]
    },
    {
      "cell_type": "code",
      "metadata": {
        "colab": {
          "base_uri": "https://localhost:8080/",
          "height": 300
        },
        "id": "Yi305onW6-zp",
        "outputId": "aabc34b5-293e-4b75-8d56-1b640a8c3eae"
      },
      "source": [
        "merge_prev[merge_prev['cluster'] == 0][[\"lixo\", \"esgoto\",\t\"estudo\",\t\"salario\"]].describe()"
      ],
      "execution_count": 11,
      "outputs": [
        {
          "output_type": "execute_result",
          "data": {
            "text/html": [
              "\n",
              "  <div id=\"df-9f25cac7-c0a2-4355-bd38-aaf016886caa\">\n",
              "    <div class=\"colab-df-container\">\n",
              "      <div>\n",
              "<style scoped>\n",
              "    .dataframe tbody tr th:only-of-type {\n",
              "        vertical-align: middle;\n",
              "    }\n",
              "\n",
              "    .dataframe tbody tr th {\n",
              "        vertical-align: top;\n",
              "    }\n",
              "\n",
              "    .dataframe thead th {\n",
              "        text-align: right;\n",
              "    }\n",
              "</style>\n",
              "<table border=\"1\" class=\"dataframe\">\n",
              "  <thead>\n",
              "    <tr style=\"text-align: right;\">\n",
              "      <th></th>\n",
              "      <th>lixo</th>\n",
              "      <th>esgoto</th>\n",
              "      <th>estudo</th>\n",
              "      <th>salario</th>\n",
              "    </tr>\n",
              "  </thead>\n",
              "  <tbody>\n",
              "    <tr>\n",
              "      <th>count</th>\n",
              "      <td>38.000000</td>\n",
              "      <td>38.000000</td>\n",
              "      <td>38.000000</td>\n",
              "      <td>38.000000</td>\n",
              "    </tr>\n",
              "    <tr>\n",
              "      <th>mean</th>\n",
              "      <td>21.476053</td>\n",
              "      <td>83.370000</td>\n",
              "      <td>71.488869</td>\n",
              "      <td>91.201579</td>\n",
              "    </tr>\n",
              "    <tr>\n",
              "      <th>std</th>\n",
              "      <td>10.409066</td>\n",
              "      <td>10.707862</td>\n",
              "      <td>8.837346</td>\n",
              "      <td>3.261645</td>\n",
              "    </tr>\n",
              "    <tr>\n",
              "      <th>min</th>\n",
              "      <td>3.290000</td>\n",
              "      <td>61.760000</td>\n",
              "      <td>47.770000</td>\n",
              "      <td>78.860000</td>\n",
              "    </tr>\n",
              "    <tr>\n",
              "      <th>25%</th>\n",
              "      <td>12.462500</td>\n",
              "      <td>75.877500</td>\n",
              "      <td>66.565000</td>\n",
              "      <td>89.997500</td>\n",
              "    </tr>\n",
              "    <tr>\n",
              "      <th>50%</th>\n",
              "      <td>20.255000</td>\n",
              "      <td>84.920000</td>\n",
              "      <td>73.245000</td>\n",
              "      <td>91.650000</td>\n",
              "    </tr>\n",
              "    <tr>\n",
              "      <th>75%</th>\n",
              "      <td>32.050000</td>\n",
              "      <td>92.892500</td>\n",
              "      <td>79.210000</td>\n",
              "      <td>93.285000</td>\n",
              "    </tr>\n",
              "    <tr>\n",
              "      <th>max</th>\n",
              "      <td>38.620000</td>\n",
              "      <td>98.500000</td>\n",
              "      <td>84.270000</td>\n",
              "      <td>95.940000</td>\n",
              "    </tr>\n",
              "  </tbody>\n",
              "</table>\n",
              "</div>\n",
              "      <button class=\"colab-df-convert\" onclick=\"convertToInteractive('df-9f25cac7-c0a2-4355-bd38-aaf016886caa')\"\n",
              "              title=\"Convert this dataframe to an interactive table.\"\n",
              "              style=\"display:none;\">\n",
              "        \n",
              "  <svg xmlns=\"http://www.w3.org/2000/svg\" height=\"24px\"viewBox=\"0 0 24 24\"\n",
              "       width=\"24px\">\n",
              "    <path d=\"M0 0h24v24H0V0z\" fill=\"none\"/>\n",
              "    <path d=\"M18.56 5.44l.94 2.06.94-2.06 2.06-.94-2.06-.94-.94-2.06-.94 2.06-2.06.94zm-11 1L8.5 8.5l.94-2.06 2.06-.94-2.06-.94L8.5 2.5l-.94 2.06-2.06.94zm10 10l.94 2.06.94-2.06 2.06-.94-2.06-.94-.94-2.06-.94 2.06-2.06.94z\"/><path d=\"M17.41 7.96l-1.37-1.37c-.4-.4-.92-.59-1.43-.59-.52 0-1.04.2-1.43.59L10.3 9.45l-7.72 7.72c-.78.78-.78 2.05 0 2.83L4 21.41c.39.39.9.59 1.41.59.51 0 1.02-.2 1.41-.59l7.78-7.78 2.81-2.81c.8-.78.8-2.07 0-2.86zM5.41 20L4 18.59l7.72-7.72 1.47 1.35L5.41 20z\"/>\n",
              "  </svg>\n",
              "      </button>\n",
              "      \n",
              "  <style>\n",
              "    .colab-df-container {\n",
              "      display:flex;\n",
              "      flex-wrap:wrap;\n",
              "      gap: 12px;\n",
              "    }\n",
              "\n",
              "    .colab-df-convert {\n",
              "      background-color: #E8F0FE;\n",
              "      border: none;\n",
              "      border-radius: 50%;\n",
              "      cursor: pointer;\n",
              "      display: none;\n",
              "      fill: #1967D2;\n",
              "      height: 32px;\n",
              "      padding: 0 0 0 0;\n",
              "      width: 32px;\n",
              "    }\n",
              "\n",
              "    .colab-df-convert:hover {\n",
              "      background-color: #E2EBFA;\n",
              "      box-shadow: 0px 1px 2px rgba(60, 64, 67, 0.3), 0px 1px 3px 1px rgba(60, 64, 67, 0.15);\n",
              "      fill: #174EA6;\n",
              "    }\n",
              "\n",
              "    [theme=dark] .colab-df-convert {\n",
              "      background-color: #3B4455;\n",
              "      fill: #D2E3FC;\n",
              "    }\n",
              "\n",
              "    [theme=dark] .colab-df-convert:hover {\n",
              "      background-color: #434B5C;\n",
              "      box-shadow: 0px 1px 3px 1px rgba(0, 0, 0, 0.15);\n",
              "      filter: drop-shadow(0px 1px 2px rgba(0, 0, 0, 0.3));\n",
              "      fill: #FFFFFF;\n",
              "    }\n",
              "  </style>\n",
              "\n",
              "      <script>\n",
              "        const buttonEl =\n",
              "          document.querySelector('#df-9f25cac7-c0a2-4355-bd38-aaf016886caa button.colab-df-convert');\n",
              "        buttonEl.style.display =\n",
              "          google.colab.kernel.accessAllowed ? 'block' : 'none';\n",
              "\n",
              "        async function convertToInteractive(key) {\n",
              "          const element = document.querySelector('#df-9f25cac7-c0a2-4355-bd38-aaf016886caa');\n",
              "          const dataTable =\n",
              "            await google.colab.kernel.invokeFunction('convertToInteractive',\n",
              "                                                     [key], {});\n",
              "          if (!dataTable) return;\n",
              "\n",
              "          const docLinkHtml = 'Like what you see? Visit the ' +\n",
              "            '<a target=\"_blank\" href=https://colab.research.google.com/notebooks/data_table.ipynb>data table notebook</a>'\n",
              "            + ' to learn more about interactive tables.';\n",
              "          element.innerHTML = '';\n",
              "          dataTable['output_type'] = 'display_data';\n",
              "          await google.colab.output.renderOutput(dataTable, element);\n",
              "          const docLink = document.createElement('div');\n",
              "          docLink.innerHTML = docLinkHtml;\n",
              "          element.appendChild(docLink);\n",
              "        }\n",
              "      </script>\n",
              "    </div>\n",
              "  </div>\n",
              "  "
            ],
            "text/plain": [
              "            lixo     esgoto     estudo    salario\n",
              "count  38.000000  38.000000  38.000000  38.000000\n",
              "mean   21.476053  83.370000  71.488869  91.201579\n",
              "std    10.409066  10.707862   8.837346   3.261645\n",
              "min     3.290000  61.760000  47.770000  78.860000\n",
              "25%    12.462500  75.877500  66.565000  89.997500\n",
              "50%    20.255000  84.920000  73.245000  91.650000\n",
              "75%    32.050000  92.892500  79.210000  93.285000\n",
              "max    38.620000  98.500000  84.270000  95.940000"
            ]
          },
          "metadata": {},
          "execution_count": 11
        }
      ]
    },
    {
      "cell_type": "code",
      "source": [
        "merge_prev[merge_prev['cluster'] == 1][[\"lixo\", \"esgoto\",\t\"estudo\",\t\"salario\"]].describe()"
      ],
      "metadata": {
        "colab": {
          "base_uri": "https://localhost:8080/",
          "height": 300
        },
        "id": "0CsCHAqK0wk9",
        "outputId": "cc2a602a-2ad7-424b-89e1-7d7a523b1081"
      },
      "execution_count": 12,
      "outputs": [
        {
          "output_type": "execute_result",
          "data": {
            "text/html": [
              "\n",
              "  <div id=\"df-519ac3ea-515d-41bb-a134-339233e0bdd5\">\n",
              "    <div class=\"colab-df-container\">\n",
              "      <div>\n",
              "<style scoped>\n",
              "    .dataframe tbody tr th:only-of-type {\n",
              "        vertical-align: middle;\n",
              "    }\n",
              "\n",
              "    .dataframe tbody tr th {\n",
              "        vertical-align: top;\n",
              "    }\n",
              "\n",
              "    .dataframe thead th {\n",
              "        text-align: right;\n",
              "    }\n",
              "</style>\n",
              "<table border=\"1\" class=\"dataframe\">\n",
              "  <thead>\n",
              "    <tr style=\"text-align: right;\">\n",
              "      <th></th>\n",
              "      <th>lixo</th>\n",
              "      <th>esgoto</th>\n",
              "      <th>estudo</th>\n",
              "      <th>salario</th>\n",
              "    </tr>\n",
              "  </thead>\n",
              "  <tbody>\n",
              "    <tr>\n",
              "      <th>count</th>\n",
              "      <td>46.000000</td>\n",
              "      <td>46.000000</td>\n",
              "      <td>46.000000</td>\n",
              "      <td>46.00000</td>\n",
              "    </tr>\n",
              "    <tr>\n",
              "      <th>mean</th>\n",
              "      <td>52.658696</td>\n",
              "      <td>90.714565</td>\n",
              "      <td>74.840217</td>\n",
              "      <td>91.90500</td>\n",
              "    </tr>\n",
              "    <tr>\n",
              "      <th>std</th>\n",
              "      <td>10.844450</td>\n",
              "      <td>9.923797</td>\n",
              "      <td>10.390956</td>\n",
              "      <td>2.86476</td>\n",
              "    </tr>\n",
              "    <tr>\n",
              "      <th>min</th>\n",
              "      <td>34.480000</td>\n",
              "      <td>61.350000</td>\n",
              "      <td>32.370000</td>\n",
              "      <td>84.55000</td>\n",
              "    </tr>\n",
              "    <tr>\n",
              "      <th>25%</th>\n",
              "      <td>43.267500</td>\n",
              "      <td>87.337500</td>\n",
              "      <td>70.425000</td>\n",
              "      <td>90.49750</td>\n",
              "    </tr>\n",
              "    <tr>\n",
              "      <th>50%</th>\n",
              "      <td>52.095000</td>\n",
              "      <td>93.770000</td>\n",
              "      <td>77.865000</td>\n",
              "      <td>92.35000</td>\n",
              "    </tr>\n",
              "    <tr>\n",
              "      <th>75%</th>\n",
              "      <td>58.855000</td>\n",
              "      <td>97.930000</td>\n",
              "      <td>81.257500</td>\n",
              "      <td>94.01500</td>\n",
              "    </tr>\n",
              "    <tr>\n",
              "      <th>max</th>\n",
              "      <td>75.820000</td>\n",
              "      <td>99.760000</td>\n",
              "      <td>86.240000</td>\n",
              "      <td>96.60000</td>\n",
              "    </tr>\n",
              "  </tbody>\n",
              "</table>\n",
              "</div>\n",
              "      <button class=\"colab-df-convert\" onclick=\"convertToInteractive('df-519ac3ea-515d-41bb-a134-339233e0bdd5')\"\n",
              "              title=\"Convert this dataframe to an interactive table.\"\n",
              "              style=\"display:none;\">\n",
              "        \n",
              "  <svg xmlns=\"http://www.w3.org/2000/svg\" height=\"24px\"viewBox=\"0 0 24 24\"\n",
              "       width=\"24px\">\n",
              "    <path d=\"M0 0h24v24H0V0z\" fill=\"none\"/>\n",
              "    <path d=\"M18.56 5.44l.94 2.06.94-2.06 2.06-.94-2.06-.94-.94-2.06-.94 2.06-2.06.94zm-11 1L8.5 8.5l.94-2.06 2.06-.94-2.06-.94L8.5 2.5l-.94 2.06-2.06.94zm10 10l.94 2.06.94-2.06 2.06-.94-2.06-.94-.94-2.06-.94 2.06-2.06.94z\"/><path d=\"M17.41 7.96l-1.37-1.37c-.4-.4-.92-.59-1.43-.59-.52 0-1.04.2-1.43.59L10.3 9.45l-7.72 7.72c-.78.78-.78 2.05 0 2.83L4 21.41c.39.39.9.59 1.41.59.51 0 1.02-.2 1.41-.59l7.78-7.78 2.81-2.81c.8-.78.8-2.07 0-2.86zM5.41 20L4 18.59l7.72-7.72 1.47 1.35L5.41 20z\"/>\n",
              "  </svg>\n",
              "      </button>\n",
              "      \n",
              "  <style>\n",
              "    .colab-df-container {\n",
              "      display:flex;\n",
              "      flex-wrap:wrap;\n",
              "      gap: 12px;\n",
              "    }\n",
              "\n",
              "    .colab-df-convert {\n",
              "      background-color: #E8F0FE;\n",
              "      border: none;\n",
              "      border-radius: 50%;\n",
              "      cursor: pointer;\n",
              "      display: none;\n",
              "      fill: #1967D2;\n",
              "      height: 32px;\n",
              "      padding: 0 0 0 0;\n",
              "      width: 32px;\n",
              "    }\n",
              "\n",
              "    .colab-df-convert:hover {\n",
              "      background-color: #E2EBFA;\n",
              "      box-shadow: 0px 1px 2px rgba(60, 64, 67, 0.3), 0px 1px 3px 1px rgba(60, 64, 67, 0.15);\n",
              "      fill: #174EA6;\n",
              "    }\n",
              "\n",
              "    [theme=dark] .colab-df-convert {\n",
              "      background-color: #3B4455;\n",
              "      fill: #D2E3FC;\n",
              "    }\n",
              "\n",
              "    [theme=dark] .colab-df-convert:hover {\n",
              "      background-color: #434B5C;\n",
              "      box-shadow: 0px 1px 3px 1px rgba(0, 0, 0, 0.15);\n",
              "      filter: drop-shadow(0px 1px 2px rgba(0, 0, 0, 0.3));\n",
              "      fill: #FFFFFF;\n",
              "    }\n",
              "  </style>\n",
              "\n",
              "      <script>\n",
              "        const buttonEl =\n",
              "          document.querySelector('#df-519ac3ea-515d-41bb-a134-339233e0bdd5 button.colab-df-convert');\n",
              "        buttonEl.style.display =\n",
              "          google.colab.kernel.accessAllowed ? 'block' : 'none';\n",
              "\n",
              "        async function convertToInteractive(key) {\n",
              "          const element = document.querySelector('#df-519ac3ea-515d-41bb-a134-339233e0bdd5');\n",
              "          const dataTable =\n",
              "            await google.colab.kernel.invokeFunction('convertToInteractive',\n",
              "                                                     [key], {});\n",
              "          if (!dataTable) return;\n",
              "\n",
              "          const docLinkHtml = 'Like what you see? Visit the ' +\n",
              "            '<a target=\"_blank\" href=https://colab.research.google.com/notebooks/data_table.ipynb>data table notebook</a>'\n",
              "            + ' to learn more about interactive tables.';\n",
              "          element.innerHTML = '';\n",
              "          dataTable['output_type'] = 'display_data';\n",
              "          await google.colab.output.renderOutput(dataTable, element);\n",
              "          const docLink = document.createElement('div');\n",
              "          docLink.innerHTML = docLinkHtml;\n",
              "          element.appendChild(docLink);\n",
              "        }\n",
              "      </script>\n",
              "    </div>\n",
              "  </div>\n",
              "  "
            ],
            "text/plain": [
              "            lixo     esgoto     estudo   salario\n",
              "count  46.000000  46.000000  46.000000  46.00000\n",
              "mean   52.658696  90.714565  74.840217  91.90500\n",
              "std    10.844450   9.923797  10.390956   2.86476\n",
              "min    34.480000  61.350000  32.370000  84.55000\n",
              "25%    43.267500  87.337500  70.425000  90.49750\n",
              "50%    52.095000  93.770000  77.865000  92.35000\n",
              "75%    58.855000  97.930000  81.257500  94.01500\n",
              "max    75.820000  99.760000  86.240000  96.60000"
            ]
          },
          "metadata": {},
          "execution_count": 12
        }
      ]
    },
    {
      "cell_type": "code",
      "source": [
        "merge_prev[merge_prev['cluster'] == 2][[\"lixo\", \"esgoto\",\t\"estudo\",\t\"salario\"]].describe()"
      ],
      "metadata": {
        "colab": {
          "base_uri": "https://localhost:8080/",
          "height": 300
        },
        "id": "Isf2Hh920x6k",
        "outputId": "846bc6c7-83dc-47d5-a646-3c009393f699"
      },
      "execution_count": 13,
      "outputs": [
        {
          "output_type": "execute_result",
          "data": {
            "text/html": [
              "\n",
              "  <div id=\"df-06c02a9a-b54e-484e-bfe7-f739b8e1c46a\">\n",
              "    <div class=\"colab-df-container\">\n",
              "      <div>\n",
              "<style scoped>\n",
              "    .dataframe tbody tr th:only-of-type {\n",
              "        vertical-align: middle;\n",
              "    }\n",
              "\n",
              "    .dataframe tbody tr th {\n",
              "        vertical-align: top;\n",
              "    }\n",
              "\n",
              "    .dataframe thead th {\n",
              "        text-align: right;\n",
              "    }\n",
              "</style>\n",
              "<table border=\"1\" class=\"dataframe\">\n",
              "  <thead>\n",
              "    <tr style=\"text-align: right;\">\n",
              "      <th></th>\n",
              "      <th>lixo</th>\n",
              "      <th>esgoto</th>\n",
              "      <th>estudo</th>\n",
              "      <th>salario</th>\n",
              "    </tr>\n",
              "  </thead>\n",
              "  <tbody>\n",
              "    <tr>\n",
              "      <th>count</th>\n",
              "      <td>18.000000</td>\n",
              "      <td>18.000000</td>\n",
              "      <td>18.000000</td>\n",
              "      <td>18.000000</td>\n",
              "    </tr>\n",
              "    <tr>\n",
              "      <th>mean</th>\n",
              "      <td>16.162222</td>\n",
              "      <td>39.553333</td>\n",
              "      <td>73.737222</td>\n",
              "      <td>90.943333</td>\n",
              "    </tr>\n",
              "    <tr>\n",
              "      <th>std</th>\n",
              "      <td>10.191281</td>\n",
              "      <td>9.227490</td>\n",
              "      <td>7.713682</td>\n",
              "      <td>2.798113</td>\n",
              "    </tr>\n",
              "    <tr>\n",
              "      <th>min</th>\n",
              "      <td>2.350000</td>\n",
              "      <td>26.080000</td>\n",
              "      <td>60.640000</td>\n",
              "      <td>83.940000</td>\n",
              "    </tr>\n",
              "    <tr>\n",
              "      <th>25%</th>\n",
              "      <td>7.982500</td>\n",
              "      <td>32.125000</td>\n",
              "      <td>70.750000</td>\n",
              "      <td>90.075000</td>\n",
              "    </tr>\n",
              "    <tr>\n",
              "      <th>50%</th>\n",
              "      <td>16.640000</td>\n",
              "      <td>38.750000</td>\n",
              "      <td>73.380000</td>\n",
              "      <td>91.360000</td>\n",
              "    </tr>\n",
              "    <tr>\n",
              "      <th>75%</th>\n",
              "      <td>21.032500</td>\n",
              "      <td>45.452500</td>\n",
              "      <td>80.657500</td>\n",
              "      <td>92.810000</td>\n",
              "    </tr>\n",
              "    <tr>\n",
              "      <th>max</th>\n",
              "      <td>36.950000</td>\n",
              "      <td>57.880000</td>\n",
              "      <td>85.130000</td>\n",
              "      <td>95.400000</td>\n",
              "    </tr>\n",
              "  </tbody>\n",
              "</table>\n",
              "</div>\n",
              "      <button class=\"colab-df-convert\" onclick=\"convertToInteractive('df-06c02a9a-b54e-484e-bfe7-f739b8e1c46a')\"\n",
              "              title=\"Convert this dataframe to an interactive table.\"\n",
              "              style=\"display:none;\">\n",
              "        \n",
              "  <svg xmlns=\"http://www.w3.org/2000/svg\" height=\"24px\"viewBox=\"0 0 24 24\"\n",
              "       width=\"24px\">\n",
              "    <path d=\"M0 0h24v24H0V0z\" fill=\"none\"/>\n",
              "    <path d=\"M18.56 5.44l.94 2.06.94-2.06 2.06-.94-2.06-.94-.94-2.06-.94 2.06-2.06.94zm-11 1L8.5 8.5l.94-2.06 2.06-.94-2.06-.94L8.5 2.5l-.94 2.06-2.06.94zm10 10l.94 2.06.94-2.06 2.06-.94-2.06-.94-.94-2.06-.94 2.06-2.06.94z\"/><path d=\"M17.41 7.96l-1.37-1.37c-.4-.4-.92-.59-1.43-.59-.52 0-1.04.2-1.43.59L10.3 9.45l-7.72 7.72c-.78.78-.78 2.05 0 2.83L4 21.41c.39.39.9.59 1.41.59.51 0 1.02-.2 1.41-.59l7.78-7.78 2.81-2.81c.8-.78.8-2.07 0-2.86zM5.41 20L4 18.59l7.72-7.72 1.47 1.35L5.41 20z\"/>\n",
              "  </svg>\n",
              "      </button>\n",
              "      \n",
              "  <style>\n",
              "    .colab-df-container {\n",
              "      display:flex;\n",
              "      flex-wrap:wrap;\n",
              "      gap: 12px;\n",
              "    }\n",
              "\n",
              "    .colab-df-convert {\n",
              "      background-color: #E8F0FE;\n",
              "      border: none;\n",
              "      border-radius: 50%;\n",
              "      cursor: pointer;\n",
              "      display: none;\n",
              "      fill: #1967D2;\n",
              "      height: 32px;\n",
              "      padding: 0 0 0 0;\n",
              "      width: 32px;\n",
              "    }\n",
              "\n",
              "    .colab-df-convert:hover {\n",
              "      background-color: #E2EBFA;\n",
              "      box-shadow: 0px 1px 2px rgba(60, 64, 67, 0.3), 0px 1px 3px 1px rgba(60, 64, 67, 0.15);\n",
              "      fill: #174EA6;\n",
              "    }\n",
              "\n",
              "    [theme=dark] .colab-df-convert {\n",
              "      background-color: #3B4455;\n",
              "      fill: #D2E3FC;\n",
              "    }\n",
              "\n",
              "    [theme=dark] .colab-df-convert:hover {\n",
              "      background-color: #434B5C;\n",
              "      box-shadow: 0px 1px 3px 1px rgba(0, 0, 0, 0.15);\n",
              "      filter: drop-shadow(0px 1px 2px rgba(0, 0, 0, 0.3));\n",
              "      fill: #FFFFFF;\n",
              "    }\n",
              "  </style>\n",
              "\n",
              "      <script>\n",
              "        const buttonEl =\n",
              "          document.querySelector('#df-06c02a9a-b54e-484e-bfe7-f739b8e1c46a button.colab-df-convert');\n",
              "        buttonEl.style.display =\n",
              "          google.colab.kernel.accessAllowed ? 'block' : 'none';\n",
              "\n",
              "        async function convertToInteractive(key) {\n",
              "          const element = document.querySelector('#df-06c02a9a-b54e-484e-bfe7-f739b8e1c46a');\n",
              "          const dataTable =\n",
              "            await google.colab.kernel.invokeFunction('convertToInteractive',\n",
              "                                                     [key], {});\n",
              "          if (!dataTable) return;\n",
              "\n",
              "          const docLinkHtml = 'Like what you see? Visit the ' +\n",
              "            '<a target=\"_blank\" href=https://colab.research.google.com/notebooks/data_table.ipynb>data table notebook</a>'\n",
              "            + ' to learn more about interactive tables.';\n",
              "          element.innerHTML = '';\n",
              "          dataTable['output_type'] = 'display_data';\n",
              "          await google.colab.output.renderOutput(dataTable, element);\n",
              "          const docLink = document.createElement('div');\n",
              "          docLink.innerHTML = docLinkHtml;\n",
              "          element.appendChild(docLink);\n",
              "        }\n",
              "      </script>\n",
              "    </div>\n",
              "  </div>\n",
              "  "
            ],
            "text/plain": [
              "            lixo     esgoto     estudo    salario\n",
              "count  18.000000  18.000000  18.000000  18.000000\n",
              "mean   16.162222  39.553333  73.737222  90.943333\n",
              "std    10.191281   9.227490   7.713682   2.798113\n",
              "min     2.350000  26.080000  60.640000  83.940000\n",
              "25%     7.982500  32.125000  70.750000  90.075000\n",
              "50%    16.640000  38.750000  73.380000  91.360000\n",
              "75%    21.032500  45.452500  80.657500  92.810000\n",
              "max    36.950000  57.880000  85.130000  95.400000"
            ]
          },
          "metadata": {},
          "execution_count": 13
        }
      ]
    },
    {
      "cell_type": "code",
      "source": [
        "merge_prev[[\"lixo\", \"esgoto\",\t\"estudo\",\t\"salario\"]].describe()"
      ],
      "metadata": {
        "colab": {
          "base_uri": "https://localhost:8080/",
          "height": 300
        },
        "id": "k0-Ow7cT0zAo",
        "outputId": "db774ca5-d94b-4c74-f8ab-b5657500d2a9"
      },
      "execution_count": 14,
      "outputs": [
        {
          "output_type": "execute_result",
          "data": {
            "text/html": [
              "\n",
              "  <div id=\"df-e09e2416-e22d-4ff4-b818-709cd47efc77\">\n",
              "    <div class=\"colab-df-container\">\n",
              "      <div>\n",
              "<style scoped>\n",
              "    .dataframe tbody tr th:only-of-type {\n",
              "        vertical-align: middle;\n",
              "    }\n",
              "\n",
              "    .dataframe tbody tr th {\n",
              "        vertical-align: top;\n",
              "    }\n",
              "\n",
              "    .dataframe thead th {\n",
              "        text-align: right;\n",
              "    }\n",
              "</style>\n",
              "<table border=\"1\" class=\"dataframe\">\n",
              "  <thead>\n",
              "    <tr style=\"text-align: right;\">\n",
              "      <th></th>\n",
              "      <th>lixo</th>\n",
              "      <th>esgoto</th>\n",
              "      <th>estudo</th>\n",
              "      <th>salario</th>\n",
              "    </tr>\n",
              "  </thead>\n",
              "  <tbody>\n",
              "    <tr>\n",
              "      <th>count</th>\n",
              "      <td>102.000000</td>\n",
              "      <td>102.000000</td>\n",
              "      <td>102.000000</td>\n",
              "      <td>102.000000</td>\n",
              "    </tr>\n",
              "    <tr>\n",
              "      <th>mean</th>\n",
              "      <td>34.601078</td>\n",
              "      <td>78.949902</td>\n",
              "      <td>73.397030</td>\n",
              "      <td>91.473235</td>\n",
              "    </tr>\n",
              "    <tr>\n",
              "      <th>std</th>\n",
              "      <td>19.582823</td>\n",
              "      <td>21.147360</td>\n",
              "      <td>9.437736</td>\n",
              "      <td>3.005705</td>\n",
              "    </tr>\n",
              "    <tr>\n",
              "      <th>min</th>\n",
              "      <td>2.350000</td>\n",
              "      <td>26.080000</td>\n",
              "      <td>32.370000</td>\n",
              "      <td>78.860000</td>\n",
              "    </tr>\n",
              "    <tr>\n",
              "      <th>25%</th>\n",
              "      <td>18.147500</td>\n",
              "      <td>68.372500</td>\n",
              "      <td>69.800000</td>\n",
              "      <td>90.187500</td>\n",
              "    </tr>\n",
              "    <tr>\n",
              "      <th>50%</th>\n",
              "      <td>35.100000</td>\n",
              "      <td>86.750000</td>\n",
              "      <td>74.330000</td>\n",
              "      <td>91.790000</td>\n",
              "    </tr>\n",
              "    <tr>\n",
              "      <th>75%</th>\n",
              "      <td>49.207500</td>\n",
              "      <td>94.630000</td>\n",
              "      <td>80.470000</td>\n",
              "      <td>93.540000</td>\n",
              "    </tr>\n",
              "    <tr>\n",
              "      <th>max</th>\n",
              "      <td>75.820000</td>\n",
              "      <td>99.760000</td>\n",
              "      <td>86.240000</td>\n",
              "      <td>96.600000</td>\n",
              "    </tr>\n",
              "  </tbody>\n",
              "</table>\n",
              "</div>\n",
              "      <button class=\"colab-df-convert\" onclick=\"convertToInteractive('df-e09e2416-e22d-4ff4-b818-709cd47efc77')\"\n",
              "              title=\"Convert this dataframe to an interactive table.\"\n",
              "              style=\"display:none;\">\n",
              "        \n",
              "  <svg xmlns=\"http://www.w3.org/2000/svg\" height=\"24px\"viewBox=\"0 0 24 24\"\n",
              "       width=\"24px\">\n",
              "    <path d=\"M0 0h24v24H0V0z\" fill=\"none\"/>\n",
              "    <path d=\"M18.56 5.44l.94 2.06.94-2.06 2.06-.94-2.06-.94-.94-2.06-.94 2.06-2.06.94zm-11 1L8.5 8.5l.94-2.06 2.06-.94-2.06-.94L8.5 2.5l-.94 2.06-2.06.94zm10 10l.94 2.06.94-2.06 2.06-.94-2.06-.94-.94-2.06-.94 2.06-2.06.94z\"/><path d=\"M17.41 7.96l-1.37-1.37c-.4-.4-.92-.59-1.43-.59-.52 0-1.04.2-1.43.59L10.3 9.45l-7.72 7.72c-.78.78-.78 2.05 0 2.83L4 21.41c.39.39.9.59 1.41.59.51 0 1.02-.2 1.41-.59l7.78-7.78 2.81-2.81c.8-.78.8-2.07 0-2.86zM5.41 20L4 18.59l7.72-7.72 1.47 1.35L5.41 20z\"/>\n",
              "  </svg>\n",
              "      </button>\n",
              "      \n",
              "  <style>\n",
              "    .colab-df-container {\n",
              "      display:flex;\n",
              "      flex-wrap:wrap;\n",
              "      gap: 12px;\n",
              "    }\n",
              "\n",
              "    .colab-df-convert {\n",
              "      background-color: #E8F0FE;\n",
              "      border: none;\n",
              "      border-radius: 50%;\n",
              "      cursor: pointer;\n",
              "      display: none;\n",
              "      fill: #1967D2;\n",
              "      height: 32px;\n",
              "      padding: 0 0 0 0;\n",
              "      width: 32px;\n",
              "    }\n",
              "\n",
              "    .colab-df-convert:hover {\n",
              "      background-color: #E2EBFA;\n",
              "      box-shadow: 0px 1px 2px rgba(60, 64, 67, 0.3), 0px 1px 3px 1px rgba(60, 64, 67, 0.15);\n",
              "      fill: #174EA6;\n",
              "    }\n",
              "\n",
              "    [theme=dark] .colab-df-convert {\n",
              "      background-color: #3B4455;\n",
              "      fill: #D2E3FC;\n",
              "    }\n",
              "\n",
              "    [theme=dark] .colab-df-convert:hover {\n",
              "      background-color: #434B5C;\n",
              "      box-shadow: 0px 1px 3px 1px rgba(0, 0, 0, 0.15);\n",
              "      filter: drop-shadow(0px 1px 2px rgba(0, 0, 0, 0.3));\n",
              "      fill: #FFFFFF;\n",
              "    }\n",
              "  </style>\n",
              "\n",
              "      <script>\n",
              "        const buttonEl =\n",
              "          document.querySelector('#df-e09e2416-e22d-4ff4-b818-709cd47efc77 button.colab-df-convert');\n",
              "        buttonEl.style.display =\n",
              "          google.colab.kernel.accessAllowed ? 'block' : 'none';\n",
              "\n",
              "        async function convertToInteractive(key) {\n",
              "          const element = document.querySelector('#df-e09e2416-e22d-4ff4-b818-709cd47efc77');\n",
              "          const dataTable =\n",
              "            await google.colab.kernel.invokeFunction('convertToInteractive',\n",
              "                                                     [key], {});\n",
              "          if (!dataTable) return;\n",
              "\n",
              "          const docLinkHtml = 'Like what you see? Visit the ' +\n",
              "            '<a target=\"_blank\" href=https://colab.research.google.com/notebooks/data_table.ipynb>data table notebook</a>'\n",
              "            + ' to learn more about interactive tables.';\n",
              "          element.innerHTML = '';\n",
              "          dataTable['output_type'] = 'display_data';\n",
              "          await google.colab.output.renderOutput(dataTable, element);\n",
              "          const docLink = document.createElement('div');\n",
              "          docLink.innerHTML = docLinkHtml;\n",
              "          element.appendChild(docLink);\n",
              "        }\n",
              "      </script>\n",
              "    </div>\n",
              "  </div>\n",
              "  "
            ],
            "text/plain": [
              "             lixo      esgoto      estudo     salario\n",
              "count  102.000000  102.000000  102.000000  102.000000\n",
              "mean    34.601078   78.949902   73.397030   91.473235\n",
              "std     19.582823   21.147360    9.437736    3.005705\n",
              "min      2.350000   26.080000   32.370000   78.860000\n",
              "25%     18.147500   68.372500   69.800000   90.187500\n",
              "50%     35.100000   86.750000   74.330000   91.790000\n",
              "75%     49.207500   94.630000   80.470000   93.540000\n",
              "max     75.820000   99.760000   86.240000   96.600000"
            ]
          },
          "metadata": {},
          "execution_count": 14
        }
      ]
    },
    {
      "cell_type": "markdown",
      "metadata": {
        "id": "96e8IEwfl43o"
      },
      "source": [
        "Mapping the clusters"
      ]
    },
    {
      "cell_type": "code",
      "source": [
        "mapping = {\n",
        "    0: 1, \n",
        "    1: 2, \n",
        "    2: 0, \n",
        "}\n",
        "merge_prev['cluster'] = merge_prev['cluster'].apply(lambda x: mapping[x])"
      ],
      "metadata": {
        "id": "_zbA5vBFOw9L"
      },
      "execution_count": 15,
      "outputs": []
    },
    {
      "cell_type": "markdown",
      "source": [
        "Groups of risk"
      ],
      "metadata": {
        "id": "tHNernq4Rqwe"
      }
    },
    {
      "cell_type": "code",
      "source": [
        "low_risk = merge_prev[merge_prev['cluster'] == 0]\n",
        "medium_risk = merge_prev[merge_prev['cluster'] == 1]\n",
        "high_risk = merge_prev[merge_prev['cluster'] == 2]"
      ],
      "metadata": {
        "id": "OYy6JeZzrEa8"
      },
      "execution_count": 16,
      "outputs": []
    },
    {
      "cell_type": "markdown",
      "source": [
        "Histograms of the incidences of risk groups"
      ],
      "metadata": {
        "id": "w1EVA_JyRgwm"
      }
    },
    {
      "cell_type": "code",
      "source": [
        "fig,axes = plt.subplots(3,1,figsize=(10,10))\n",
        "\n",
        "axes[0].hist(low_risk['incidence rate'], bins=50)\n",
        "axes[0].set_title(\"Low Risk\")\n",
        "\n",
        "axes[1].hist(medium_risk['incidence rate'], bins=50)\n",
        "axes[1].set_title(\"Medium Risk\")\n",
        "\n",
        "axes[2].hist(high_risk['incidence rate'], bins=50)\n",
        "axes[2].set_title(\"High Risk\")\n",
        "\n",
        "plt.tight_layout();"
      ],
      "metadata": {
        "colab": {
          "base_uri": "https://localhost:8080/",
          "height": 729
        },
        "id": "ZyiOEhgR9T9z",
        "outputId": "e2b3cc3a-672b-4b73-b4fb-ef67cd033a90"
      },
      "execution_count": 17,
      "outputs": [
        {
          "output_type": "display_data",
          "data": {
            "image/png": "[encoded data removed]",
            "text/plain": [
              "<Figure size 720x720 with 3 Axes>"
            ]
          },
          "metadata": {
            "needs_background": "light"
          }
        }
      ]
    },
    {
      "cell_type": "markdown",
      "metadata": {
        "id": "PIW7bbz2nL2F"
      },
      "source": [
        "#**Bayesian modeling**"
      ]
    },
    {
      "cell_type": "markdown",
      "source": [
        "##Student T Likelihood"
      ],
      "metadata": {
        "id": "jXfBskv9SNLZ"
      }
    },
    {
      "cell_type": "markdown",
      "source": [
        "MCMC diagnostics:\n",
        "\n",
        "*   From the following trace plot, we can visually get the plausible values of 𝜇 from the posterior.\n",
        "*   We should compare this result with those from the the result we obtained analytically.\n",
        "\n",
        "\n"
      ],
      "metadata": {
        "id": "xbMZot8-5KdF"
      }
    },
    {
      "cell_type": "code",
      "source": [
        "with pm.Model() as model_t:\n",
        "  \n",
        "  μ = pm.Uniform('μ', lower=0, upper=0.15)\n",
        "  σ = pm.HalfNormal('σ', sd=10)\n",
        "  ν = pm.Exponential('ν', 1/1)\n",
        "  y = pm.StudentT('y', mu=μ, sd=σ, nu=ν, observed=merge_prev['incidence rate'])\n",
        "  trace_t = pm.sample(2000, tune=2000)\n",
        "\n",
        "az.plot_trace(trace_t[:1000], var_names = ['μ']);"
      ],
      "metadata": {
        "colab": {
          "base_uri": "https://localhost:8080/",
          "height": 439
        },
        "id": "CgXcZzcqGbFi",
        "outputId": "921321a8-3004-4009-a482-660838788fc1"
      },
      "execution_count": 20,
      "outputs": [
        {
          "output_type": "stream",
          "name": "stderr",
          "text": [
            "/usr/local/lib/python3.7/dist-packages/ipykernel_launcher.py:7: FutureWarning: In v4.0, pm.sample will return an `arviz.InferenceData` object instead of a `MultiTrace` by default. You can pass return_inferencedata=True or return_inferencedata=False to be safe and silence this warning.\n",
            "  import sys\n",
            "Auto-assigning NUTS sampler...\n",
            "Initializing NUTS using jitter+adapt_diag...\n",
            "Sequential sampling (2 chains in 1 job)\n",
            "NUTS: [ν, σ, μ]\n"
          ]
        },
        {
          "output_type": "display_data",
          "data": {
            "text/html": [
              "\n",
              "<style>\n",
              "    /* Turns off some styling */\n",
              "    progress {\n",
              "        /* gets rid of default border in Firefox and Opera. */\n",
              "        border: none;\n",
              "        /* Needs to be in here for Safari polyfill so background images work as expected. */\n",
              "        background-size: auto;\n",
              "    }\n",
              "    .progress-bar-interrupted, .progress-bar-interrupted::-webkit-progress-bar {\n",
              "        background: #F44336;\n",
              "    }\n",
              "</style>\n"
            ],
            "text/plain": [
              "<IPython.core.display.HTML object>"
            ]
          },
          "metadata": {}
        },
        {
          "output_type": "display_data",
          "data": {
            "text/html": [
              "\n",
              "    <div>\n",
              "      <progress value='4000' class='' max='4000' style='width:300px; height:20px; vertical-align: middle;'></progress>\n",
              "      100.00% [4000/4000 00:10<00:00 Sampling chain 0, 0 divergences]\n",
              "    </div>\n",
              "    "
            ],
            "text/plain": [
              "<IPython.core.display.HTML object>"
            ]
          },
          "metadata": {}
        },
        {
          "output_type": "display_data",
          "data": {
            "text/html": [
              "\n",
              "<style>\n",
              "    /* Turns off some styling */\n",
              "    progress {\n",
              "        /* gets rid of default border in Firefox and Opera. */\n",
              "        border: none;\n",
              "        /* Needs to be in here for Safari polyfill so background images work as expected. */\n",
              "        background-size: auto;\n",
              "    }\n",
              "    .progress-bar-interrupted, .progress-bar-interrupted::-webkit-progress-bar {\n",
              "        background: #F44336;\n",
              "    }\n",
              "</style>\n"
            ],
            "text/plain": [
              "<IPython.core.display.HTML object>"
            ]
          },
          "metadata": {}
        },
        {
          "output_type": "display_data",
          "data": {
            "text/html": [
              "\n",
              "    <div>\n",
              "      <progress value='4000' class='' max='4000' style='width:300px; height:20px; vertical-align: middle;'></progress>\n",
              "      100.00% [4000/4000 00:04<00:00 Sampling chain 1, 0 divergences]\n",
              "    </div>\n",
              "    "
            ],
            "text/plain": [
              "<IPython.core.display.HTML object>"
            ]
          },
          "metadata": {}
        },
        {
          "output_type": "stream",
          "name": "stderr",
          "text": [
            "Sampling 2 chains for 2_000 tune and 2_000 draw iterations (4_000 + 4_000 draws total) took 16 seconds.\n",
            "The acceptance probability does not match the target. It is 0.8791938566319271, but should be close to 0.8. Try to increase the number of tuning steps.\n",
            "Got error No model on context stack. trying to find log_likelihood in translation.\n",
            "/usr/local/lib/python3.7/dist-packages/arviz/data/io_pymc3_3x.py:102: FutureWarning: Using `from_pymc3` without the model will be deprecated in a future release. Not using the model will return less accurate and less useful results. Make sure you use the model argument or call from_pymc3 within a model context.\n",
            "  FutureWarning,\n",
            "Got error No model on context stack. trying to find log_likelihood in translation.\n"
          ]
        },
        {
          "output_type": "display_data",
          "data": {
            "image/png": "[encoded data removed]",
            "text/plain": [
              "<Figure size 864x144 with 2 Axes>"
            ]
          },
          "metadata": {
            "needs_background": "light"
          }
        }
      ]
    },
    {
      "cell_type": "code",
      "source": [
        "merge_prev['incidence rate'].mean()"
      ],
      "metadata": {
        "colab": {
          "base_uri": "https://localhost:8080/"
        },
        "id": "j3go-OEHGI0B",
        "outputId": "fb336e4a-e408-4818-ec12-f305e4b07c9b"
      },
      "execution_count": 24,
      "outputs": [
        {
          "output_type": "execute_result",
          "data": {
            "text/plain": [
              "0.029509803921568604"
            ]
          },
          "metadata": {},
          "execution_count": 24
        }
      ]
    },
    {
      "cell_type": "markdown",
      "source": [
        "\n",
        "\n",
        "*   The left plot shows the distribution of values collected for 𝜇. What we get is a measure of uncertainty and credible values of 𝜇 between 0.016 and 0.024.\n",
        "*   It is obvious that samples that have been drawn from distributions that are significantly different from the target distribution.\n",
        "\n"
      ],
      "metadata": {
        "id": "caqX-CTN42WI"
      }
    },
    {
      "cell_type": "markdown",
      "source": [
        "## Poisson Distribution"
      ],
      "metadata": {
        "id": "t-DrS3bfR7qK"
      }
    },
    {
      "cell_type": "code",
      "source": [
        "with pm.Model() as model_p:\n",
        "  \n",
        "  μ = pm.Uniform('μ', lower=0, upper=0.15)\n",
        "  \n",
        "  ## Define Poisson likelihood\n",
        "  y = pm.Poisson('y', mu=μ, observed=merge_prev['incidence rate'].values)\n",
        "  trace_p = pm.sample(2000, tune=2000)\n",
        "\n",
        "az.plot_trace(trace_p);"
      ],
      "metadata": {
        "colab": {
          "base_uri": "https://localhost:8080/",
          "height": 422
        },
        "id": "ZqiXiYwPD1kU",
        "outputId": "0c19e43d-bd4e-4f41-9ddf-1a4f2b833c8f"
      },
      "execution_count": 25,
      "outputs": [
        {
          "output_type": "stream",
          "name": "stderr",
          "text": [
            "/usr/local/lib/python3.7/dist-packages/ipykernel_launcher.py:7: FutureWarning: In v4.0, pm.sample will return an `arviz.InferenceData` object instead of a `MultiTrace` by default. You can pass return_inferencedata=True or return_inferencedata=False to be safe and silence this warning.\n",
            "  import sys\n",
            "Auto-assigning NUTS sampler...\n",
            "Initializing NUTS using jitter+adapt_diag...\n",
            "Sequential sampling (2 chains in 1 job)\n",
            "NUTS: [μ]\n"
          ]
        },
        {
          "output_type": "display_data",
          "data": {
            "text/html": [
              "\n",
              "<style>\n",
              "    /* Turns off some styling */\n",
              "    progress {\n",
              "        /* gets rid of default border in Firefox and Opera. */\n",
              "        border: none;\n",
              "        /* Needs to be in here for Safari polyfill so background images work as expected. */\n",
              "        background-size: auto;\n",
              "    }\n",
              "    .progress-bar-interrupted, .progress-bar-interrupted::-webkit-progress-bar {\n",
              "        background: #F44336;\n",
              "    }\n",
              "</style>\n"
            ],
            "text/plain": [
              "<IPython.core.display.HTML object>"
            ]
          },
          "metadata": {}
        },
        {
          "output_type": "display_data",
          "data": {
            "text/html": [
              "\n",
              "    <div>\n",
              "      <progress value='4000' class='' max='4000' style='width:300px; height:20px; vertical-align: middle;'></progress>\n",
              "      100.00% [4000/4000 00:06<00:00 Sampling chain 0, 0 divergences]\n",
              "    </div>\n",
              "    "
            ],
            "text/plain": [
              "<IPython.core.display.HTML object>"
            ]
          },
          "metadata": {}
        },
        {
          "output_type": "display_data",
          "data": {
            "text/html": [
              "\n",
              "<style>\n",
              "    /* Turns off some styling */\n",
              "    progress {\n",
              "        /* gets rid of default border in Firefox and Opera. */\n",
              "        border: none;\n",
              "        /* Needs to be in here for Safari polyfill so background images work as expected. */\n",
              "        background-size: auto;\n",
              "    }\n",
              "    .progress-bar-interrupted, .progress-bar-interrupted::-webkit-progress-bar {\n",
              "        background: #F44336;\n",
              "    }\n",
              "</style>\n"
            ],
            "text/plain": [
              "<IPython.core.display.HTML object>"
            ]
          },
          "metadata": {}
        },
        {
          "output_type": "display_data",
          "data": {
            "text/html": [
              "\n",
              "    <div>\n",
              "      <progress value='4000' class='' max='4000' style='width:300px; height:20px; vertical-align: middle;'></progress>\n",
              "      100.00% [4000/4000 00:04<00:00 Sampling chain 1, 0 divergences]\n",
              "    </div>\n",
              "    "
            ],
            "text/plain": [
              "<IPython.core.display.HTML object>"
            ]
          },
          "metadata": {}
        },
        {
          "output_type": "stream",
          "name": "stderr",
          "text": [
            "Sampling 2 chains for 2_000 tune and 2_000 draw iterations (4_000 + 4_000 draws total) took 11 seconds.\n",
            "Got error No model on context stack. trying to find log_likelihood in translation.\n",
            "/usr/local/lib/python3.7/dist-packages/arviz/data/io_pymc3_3x.py:102: FutureWarning: Using `from_pymc3` without the model will be deprecated in a future release. Not using the model will return less accurate and less useful results. Make sure you use the model argument or call from_pymc3 within a model context.\n",
            "  FutureWarning,\n",
            "Got error No model on context stack. trying to find log_likelihood in translation.\n"
          ]
        },
        {
          "output_type": "display_data",
          "data": {
            "image/png": "[encoded data removed]",
            "text/plain": [
              "<Figure size 864x144 with 2 Axes>"
            ]
          },
          "metadata": {
            "needs_background": "light"
          }
        }
      ]
    },
    {
      "cell_type": "markdown",
      "source": [
        "The measure of uncertainty and credible values of 𝜇 is between 0.00 and 0.07. Not suitable for our data."
      ],
      "metadata": {
        "id": "fn8QkpSGTMS_"
      }
    },
    {
      "cell_type": "markdown",
      "source": [
        "##Inverse Gaussian Distribution"
      ],
      "metadata": {
        "id": "NLTM7Get77e7"
      }
    },
    {
      "cell_type": "code",
      "source": [
        "with pm.Model() as model_w:\n",
        "    \n",
        "    #prior_sig = pm.Exponential(\"prior_sig\", lam=0.9) \n",
        "    μ = pm.Uniform(\"mu\", lower=0, upper=0.15)\n",
        "    \n",
        "    like = pm.Wald(\n",
        "        \"likelihood\", \n",
        "        mu=μ,\n",
        "        lam=0.09, #0.07 ou 0.09\n",
        "        observed=merge_prev['incidence rate'],\n",
        "    )\n",
        "\n",
        "with model_w:\n",
        "  trace_wald = pm.sample(2000, tune=2000)\n",
        "\n",
        "az.plot_trace(trace_wald, var_names=['mu'])"
      ],
      "metadata": {
        "colab": {
          "base_uri": "https://localhost:8080/",
          "height": 491
        },
        "id": "-ncnz7O0MSR8",
        "outputId": "07e1c22d-abf4-42d2-fa15-2b4bc53c4ad8"
      },
      "execution_count": 26,
      "outputs": [
        {
          "output_type": "stream",
          "name": "stderr",
          "text": [
            "/usr/local/lib/python3.7/dist-packages/ipykernel_launcher.py:14: FutureWarning: In v4.0, pm.sample will return an `arviz.InferenceData` object instead of a `MultiTrace` by default. You can pass return_inferencedata=True or return_inferencedata=False to be safe and silence this warning.\n",
            "  \n",
            "Auto-assigning NUTS sampler...\n",
            "Initializing NUTS using jitter+adapt_diag...\n",
            "Sequential sampling (2 chains in 1 job)\n",
            "NUTS: [mu]\n"
          ]
        },
        {
          "output_type": "display_data",
          "data": {
            "text/html": [
              "\n",
              "<style>\n",
              "    /* Turns off some styling */\n",
              "    progress {\n",
              "        /* gets rid of default border in Firefox and Opera. */\n",
              "        border: none;\n",
              "        /* Needs to be in here for Safari polyfill so background images work as expected. */\n",
              "        background-size: auto;\n",
              "    }\n",
              "    .progress-bar-interrupted, .progress-bar-interrupted::-webkit-progress-bar {\n",
              "        background: #F44336;\n",
              "    }\n",
              "</style>\n"
            ],
            "text/plain": [
              "<IPython.core.display.HTML object>"
            ]
          },
          "metadata": {}
        },
        {
          "output_type": "display_data",
          "data": {
            "text/html": [
              "\n",
              "    <div>\n",
              "      <progress value='4000' class='' max='4000' style='width:300px; height:20px; vertical-align: middle;'></progress>\n",
              "      100.00% [4000/4000 00:02<00:00 Sampling chain 0, 0 divergences]\n",
              "    </div>\n",
              "    "
            ],
            "text/plain": [
              "<IPython.core.display.HTML object>"
            ]
          },
          "metadata": {}
        },
        {
          "output_type": "display_data",
          "data": {
            "text/html": [
              "\n",
              "<style>\n",
              "    /* Turns off some styling */\n",
              "    progress {\n",
              "        /* gets rid of default border in Firefox and Opera. */\n",
              "        border: none;\n",
              "        /* Needs to be in here for Safari polyfill so background images work as expected. */\n",
              "        background-size: auto;\n",
              "    }\n",
              "    .progress-bar-interrupted, .progress-bar-interrupted::-webkit-progress-bar {\n",
              "        background: #F44336;\n",
              "    }\n",
              "</style>\n"
            ],
            "text/plain": [
              "<IPython.core.display.HTML object>"
            ]
          },
          "metadata": {}
        },
        {
          "output_type": "display_data",
          "data": {
            "text/html": [
              "\n",
              "    <div>\n",
              "      <progress value='4000' class='' max='4000' style='width:300px; height:20px; vertical-align: middle;'></progress>\n",
              "      100.00% [4000/4000 00:02<00:00 Sampling chain 1, 0 divergences]\n",
              "    </div>\n",
              "    "
            ],
            "text/plain": [
              "<IPython.core.display.HTML object>"
            ]
          },
          "metadata": {}
        },
        {
          "output_type": "stream",
          "name": "stderr",
          "text": [
            "Sampling 2 chains for 2_000 tune and 2_000 draw iterations (4_000 + 4_000 draws total) took 4 seconds.\n",
            "The acceptance probability does not match the target. It is 0.7078204911807153, but should be close to 0.8. Try to increase the number of tuning steps.\n",
            "Got error No model on context stack. trying to find log_likelihood in translation.\n",
            "/usr/local/lib/python3.7/dist-packages/arviz/data/io_pymc3_3x.py:102: FutureWarning: Using `from_pymc3` without the model will be deprecated in a future release. Not using the model will return less accurate and less useful results. Make sure you use the model argument or call from_pymc3 within a model context.\n",
            "  FutureWarning,\n",
            "Got error No model on context stack. trying to find log_likelihood in translation.\n"
          ]
        },
        {
          "output_type": "execute_result",
          "data": {
            "text/plain": [
              "array([[<matplotlib.axes._subplots.AxesSubplot object at 0x7f042d0a6c50>,\n",
              "        <matplotlib.axes._subplots.AxesSubplot object at 0x7f042d00ef50>]],\n",
              "      dtype=object)"
            ]
          },
          "metadata": {},
          "execution_count": 26
        },
        {
          "output_type": "display_data",
          "data": {
            "image/png": "[encoded data removed]",
            "text/plain": [
              "<Figure size 864x144 with 2 Axes>"
            ]
          },
          "metadata": {
            "needs_background": "light"
          }
        }
      ]
    },
    {
      "cell_type": "markdown",
      "source": [
        "The measure of uncertainty and credible values of 𝜇 is between 0.024 and 0.036 minutes, and it is very closer to the target sample mean."
      ],
      "metadata": {
        "id": "BELbHA-49EZc"
      }
    },
    {
      "cell_type": "markdown",
      "source": [
        "###Posterior checks"
      ],
      "metadata": {
        "id": "-uSkwBtoV-Q9"
      }
    },
    {
      "cell_type": "code",
      "source": [
        "ppc = pm.sample_posterior_predictive(trace_wald, samples=1000, model=model_w)\n",
        "_, ax = plt.subplots(figsize=(10, 5))\n",
        "ax.hist([n.mean() for n in ppc['likelihood']], bins=19, alpha=0.5)\n",
        "ax.axvline(merge_prev['incidence rate'].mean(), label='Sample Mean')\n",
        "ax.set(xlabel='Mean', ylabel='Frequency')\n",
        "plt.legend()"
      ],
      "metadata": {
        "id": "5jKcVgHvwvbF",
        "colab": {
          "base_uri": "https://localhost:8080/",
          "height": 426
        },
        "outputId": "79c26b89-4af4-4357-b414-bd23203bfb95"
      },
      "execution_count": 27,
      "outputs": [
        {
          "output_type": "stream",
          "name": "stderr",
          "text": [
            "/usr/local/lib/python3.7/dist-packages/pymc3/sampling.py:1690: UserWarning: samples parameter is smaller than nchains times ndraws, some draws and/or chains may not be represented in the returned posterior predictive sample\n",
            "  \"samples parameter is smaller than nchains times ndraws, some draws \"\n"
          ]
        },
        {
          "output_type": "display_data",
          "data": {
            "text/html": [
              "\n",
              "<style>\n",
              "    /* Turns off some styling */\n",
              "    progress {\n",
              "        /* gets rid of default border in Firefox and Opera. */\n",
              "        border: none;\n",
              "        /* Needs to be in here for Safari polyfill so background images work as expected. */\n",
              "        background-size: auto;\n",
              "    }\n",
              "    .progress-bar-interrupted, .progress-bar-interrupted::-webkit-progress-bar {\n",
              "        background: #F44336;\n",
              "    }\n",
              "</style>\n"
            ],
            "text/plain": [
              "<IPython.core.display.HTML object>"
            ]
          },
          "metadata": {}
        },
        {
          "output_type": "display_data",
          "data": {
            "text/html": [
              "\n",
              "    <div>\n",
              "      <progress value='1000' class='' max='1000' style='width:300px; height:20px; vertical-align: middle;'></progress>\n",
              "      100.00% [1000/1000 00:00<00:00]\n",
              "    </div>\n",
              "    "
            ],
            "text/plain": [
              "<IPython.core.display.HTML object>"
            ]
          },
          "metadata": {}
        },
        {
          "output_type": "execute_result",
          "data": {
            "text/plain": [
              "<matplotlib.legend.Legend at 0x7f042cecabd0>"
            ]
          },
          "metadata": {},
          "execution_count": 27
        },
        {
          "output_type": "display_data",
          "data": {
            "image/png": "[encoded data removed]",
            "text/plain": [
              "<Figure size 720x360 with 1 Axes>"
            ]
          },
          "metadata": {
            "needs_background": "light"
          }
        }
      ]
    },
    {
      "cell_type": "markdown",
      "source": [
        "These confirm that Inverse Gaussian Distribution is suitable for our data"
      ],
      "metadata": {
        "id": "7q2TnSqWG7lO"
      }
    },
    {
      "cell_type": "code",
      "source": [
        "_ = pm.autocorrplot(trace_wald)"
      ],
      "metadata": {
        "colab": {
          "base_uri": "https://localhost:8080/",
          "height": 442
        },
        "id": "9J1FTrHUzWP6",
        "outputId": "c1689435-445b-4e89-9814-449fef20aae8"
      },
      "execution_count": null,
      "outputs": [
        {
          "output_type": "stream",
          "name": "stderr",
          "text": [
            "/usr/local/lib/python3.7/dist-packages/ipykernel_launcher.py:1: DeprecationWarning: The function `autocorrplot` from PyMC3 is just an alias for `plot_autocorr` from ArviZ. Please switch to `pymc3.plot_autocorr` or `arviz.plot_autocorr`.\n",
            "  \"\"\"Entry point for launching an IPython kernel.\n",
            "Got error No model on context stack. trying to find log_likelihood in translation.\n",
            "/usr/local/lib/python3.7/dist-packages/arviz/data/io_pymc3_3x.py:102: FutureWarning: Using `from_pymc3` without the model will be deprecated in a future release. Not using the model will return less accurate and less useful results. Make sure you use the model argument or call from_pymc3 within a model context.\n",
            "  FutureWarning,\n"
          ]
        },
        {
          "output_type": "display_data",
          "data": {
            "image/png": "[encoded data removed]",
            "text/plain": [
              "<Figure size 993.6x331.2 with 2 Axes>"
            ]
          },
          "metadata": {
            "needs_background": "light"
          }
        }
      ]
    },
    {
      "cell_type": "markdown",
      "source": [
        "We want the autocorrelation to fall as the x-axis increases in the graph. Because this indicates a low degree of correlation between our samples.\n",
        "\n",
        "Our Inverse Gaussian model samples dropped to low values of autocorrelation, which is a good sign."
      ],
      "metadata": {
        "id": "SMkuRvKtzhty"
      }
    },
    {
      "cell_type": "code",
      "source": [
        "y_ppc = pm.sample_posterior_predictive(trace_wald, 100, model_w, random_seed=123) \n",
        "y_pred = az.from_pymc3(trace=trace_wald, posterior_predictive=y_ppc) \n",
        "az.plot_ppc(y_pred, figsize=(10, 5), mean=False) \n",
        "plt.xlim(0, 0.15);"
      ],
      "metadata": {
        "colab": {
          "base_uri": "https://localhost:8080/",
          "height": 497
        },
        "id": "MCBw2NixzvPU",
        "outputId": "b6a379e6-28b9-49bf-b4cb-6886b8d978e5"
      },
      "execution_count": null,
      "outputs": [
        {
          "output_type": "stream",
          "name": "stderr",
          "text": [
            "/usr/local/lib/python3.7/dist-packages/pymc3/sampling.py:1690: UserWarning: samples parameter is smaller than nchains times ndraws, some draws and/or chains may not be represented in the returned posterior predictive sample\n",
            "  \"samples parameter is smaller than nchains times ndraws, some draws \"\n"
          ]
        },
        {
          "output_type": "display_data",
          "data": {
            "text/html": [
              "\n",
              "    <div>\n",
              "        <style>\n",
              "            /* Turns off some styling */\n",
              "            progress {\n",
              "                /* gets rid of default border in Firefox and Opera. */\n",
              "                border: none;\n",
              "                /* Needs to be in here for Safari polyfill so background images work as expected. */\n",
              "                background-size: auto;\n",
              "            }\n",
              "            .progress-bar-interrupted, .progress-bar-interrupted::-webkit-progress-bar {\n",
              "                background: #F44336;\n",
              "            }\n",
              "        </style>\n",
              "      <progress value='100' class='' max='100' style='width:300px; height:20px; vertical-align: middle;'></progress>\n",
              "      100.00% [100/100 00:00<00:00]\n",
              "    </div>\n",
              "    "
            ],
            "text/plain": [
              "<IPython.core.display.HTML object>"
            ]
          },
          "metadata": {}
        },
        {
          "output_type": "stream",
          "name": "stderr",
          "text": [
            "Got error No model on context stack. trying to find log_likelihood in translation.\n",
            "/usr/local/lib/python3.7/dist-packages/arviz/data/io_pymc3_3x.py:102: FutureWarning: Using `from_pymc3` without the model will be deprecated in a future release. Not using the model will return less accurate and less useful results. Make sure you use the model argument or call from_pymc3 within a model context.\n",
            "  FutureWarning,\n",
            "posterior predictive variable likelihood's shape not compatible with number of chains and draws. This can mean that some draws or even whole chains are not represented.\n"
          ]
        },
        {
          "output_type": "display_data",
          "data": {
            "image/png": "[encoded data removed]",
            "text/plain": [
              "<Figure size 720x360 with 1 Axes>"
            ]
          },
          "metadata": {
            "needs_background": "light"
          }
        }
      ]
    },
    {
      "cell_type": "markdown",
      "source": [
        "Using the Inverse Gaussian distribution in our model leads to predictive samples that seem to better fit the data in terms of the location of the peak of the distribution and also its spread.\n",
        "\n",
        "The single (black) line is a kernel density estimate (KDE) of the data and the many purple lines are KDEs calculated from each of the 100 subsequent predictive samples. The blue lines reflect the uncertainty we have about the inferred distribution of the predicted data.\n",
        "From the graph above, we can consider the scale of an Inverse Gaussian distribution as a reasonable practical proxy for the standard deviation of the data."
      ],
      "metadata": {
        "id": "5TIl1ew7zJ1-"
      }
    },
    {
      "cell_type": "markdown",
      "source": [
        "### Odds ratio"
      ],
      "metadata": {
        "id": "W10tNG_ZoICp"
      }
    },
    {
      "cell_type": "markdown",
      "source": [
        "Does socio-envorinmental deficiency index of county affects incidence rate of dengue? To do it we will use the concept of odds, and we can estimate the odds ratio of socio-envorinmental vulnerability like this:"
      ],
      "metadata": {
        "id": "470EfmOk-5RY"
      }
    },
    {
      "cell_type": "markdown",
      "source": [
        "First we do a hierarquical model with Inverse Gaussian Distribution"
      ],
      "metadata": {
        "id": "m00s6MjKMZaq"
      }
    },
    {
      "cell_type": "code",
      "source": [
        "with pm.Model() as wald_model_h:\n",
        "    \n",
        "    prior_sig = pm.Exponential(\"prior_sig\", lam=0.9) \n",
        "    mu = pm.HalfNormal(\"mu\", sd=prior_sig, shape=(3,))\n",
        "    \n",
        "    like = pm.Wald(\n",
        "        \"likelihood\", \n",
        "        mu=mu[merge_prev['cluster']],\n",
        "        lam=0.09, #0.07 ou 0.09\n",
        "        observed=merge_prev['incidence rate'],\n",
        "    )\n",
        "\n",
        "with wald_model_h:\n",
        "  trace_wald_h = pm.sample(2000, tune=2000)\n",
        "\n",
        "az.plot_posterior(trace_wald_h, var_names=['mu'])"
      ],
      "metadata": {
        "colab": {
          "base_uri": "https://localhost:8080/",
          "height": 672
        },
        "id": "zWste6bEHjpH",
        "outputId": "9c9a95de-ba4e-47dd-a64e-06a14139918a"
      },
      "execution_count": 32,
      "outputs": [
        {
          "output_type": "stream",
          "name": "stderr",
          "text": [
            "/usr/local/lib/python3.7/dist-packages/ipykernel_launcher.py:14: FutureWarning: In v4.0, pm.sample will return an `arviz.InferenceData` object instead of a `MultiTrace` by default. You can pass return_inferencedata=True or return_inferencedata=False to be safe and silence this warning.\n",
            "  \n",
            "Auto-assigning NUTS sampler...\n",
            "Initializing NUTS using jitter+adapt_diag...\n",
            "Sequential sampling (2 chains in 1 job)\n",
            "NUTS: [mu, prior_sig]\n"
          ]
        },
        {
          "output_type": "display_data",
          "data": {
            "text/html": [
              "\n",
              "<style>\n",
              "    /* Turns off some styling */\n",
              "    progress {\n",
              "        /* gets rid of default border in Firefox and Opera. */\n",
              "        border: none;\n",
              "        /* Needs to be in here for Safari polyfill so background images work as expected. */\n",
              "        background-size: auto;\n",
              "    }\n",
              "    .progress-bar-interrupted, .progress-bar-interrupted::-webkit-progress-bar {\n",
              "        background: #F44336;\n",
              "    }\n",
              "</style>\n"
            ],
            "text/plain": [
              "<IPython.core.display.HTML object>"
            ]
          },
          "metadata": {}
        },
        {
          "output_type": "display_data",
          "data": {
            "text/html": [
              "\n",
              "    <div>\n",
              "      <progress value='4000' class='' max='4000' style='width:300px; height:20px; vertical-align: middle;'></progress>\n",
              "      100.00% [4000/4000 00:03<00:00 Sampling chain 0, 7 divergences]\n",
              "    </div>\n",
              "    "
            ],
            "text/plain": [
              "<IPython.core.display.HTML object>"
            ]
          },
          "metadata": {}
        },
        {
          "output_type": "display_data",
          "data": {
            "text/html": [
              "\n",
              "<style>\n",
              "    /* Turns off some styling */\n",
              "    progress {\n",
              "        /* gets rid of default border in Firefox and Opera. */\n",
              "        border: none;\n",
              "        /* Needs to be in here for Safari polyfill so background images work as expected. */\n",
              "        background-size: auto;\n",
              "    }\n",
              "    .progress-bar-interrupted, .progress-bar-interrupted::-webkit-progress-bar {\n",
              "        background: #F44336;\n",
              "    }\n",
              "</style>\n"
            ],
            "text/plain": [
              "<IPython.core.display.HTML object>"
            ]
          },
          "metadata": {}
        },
        {
          "output_type": "display_data",
          "data": {
            "text/html": [
              "\n",
              "    <div>\n",
              "      <progress value='4000' class='' max='4000' style='width:300px; height:20px; vertical-align: middle;'></progress>\n",
              "      100.00% [4000/4000 00:03<00:00 Sampling chain 1, 11 divergences]\n",
              "    </div>\n",
              "    "
            ],
            "text/plain": [
              "<IPython.core.display.HTML object>"
            ]
          },
          "metadata": {}
        },
        {
          "output_type": "stream",
          "name": "stderr",
          "text": [
            "Sampling 2 chains for 2_000 tune and 2_000 draw iterations (4_000 + 4_000 draws total) took 7 seconds.\n",
            "There were 7 divergences after tuning. Increase `target_accept` or reparameterize.\n",
            "There were 18 divergences after tuning. Increase `target_accept` or reparameterize.\n",
            "Got error No model on context stack. trying to find log_likelihood in translation.\n",
            "/usr/local/lib/python3.7/dist-packages/arviz/data/io_pymc3_3x.py:102: FutureWarning: Using `from_pymc3` without the model will be deprecated in a future release. Not using the model will return less accurate and less useful results. Make sure you use the model argument or call from_pymc3 within a model context.\n",
            "  FutureWarning,\n"
          ]
        },
        {
          "output_type": "execute_result",
          "data": {
            "text/plain": [
              "array([<matplotlib.axes._subplots.AxesSubplot object at 0x7f042546a250>,\n",
              "       <matplotlib.axes._subplots.AxesSubplot object at 0x7f04236eb710>,\n",
              "       <matplotlib.axes._subplots.AxesSubplot object at 0x7f042efa3050>],\n",
              "      dtype=object)"
            ]
          },
          "metadata": {},
          "execution_count": 32
        },
        {
          "output_type": "display_data",
          "data": {
            "image/png": "[encoded data removed]",
            "text/plain": [
              "<Figure size 1490.4x331.2 with 3 Axes>"
            ]
          },
          "metadata": {
            "needs_background": "light"
          }
        }
      ]
    },
    {
      "cell_type": "markdown",
      "source": [
        "Then we can estimate odds ratio and percentage effect for all the variables."
      ],
      "metadata": {
        "id": "CZQXPLGKMq4s"
      }
    },
    {
      "cell_type": "code",
      "source": [
        "stat_df = pm.summary(trace_wald_h)\n",
        "stat_df['odds_ratio'] = np.exp(stat_df['mean'])\n",
        "stat_df['percentage_effect'] = 100 * (stat_df['odds_ratio'] - 1)\n",
        "stat_df.sort_values('odds_ratio', ascending=False)"
      ],
      "metadata": {
        "colab": {
          "base_uri": "https://localhost:8080/",
          "height": 247
        },
        "id": "VuT9HuMdnwCA",
        "outputId": "e6e6d56d-8cce-4cbf-91aa-b88003d601c5"
      },
      "execution_count": 34,
      "outputs": [
        {
          "output_type": "stream",
          "name": "stderr",
          "text": [
            "Got error No model on context stack. trying to find log_likelihood in translation.\n",
            "/usr/local/lib/python3.7/dist-packages/arviz/data/io_pymc3_3x.py:102: FutureWarning: Using `from_pymc3` without the model will be deprecated in a future release. Not using the model will return less accurate and less useful results. Make sure you use the model argument or call from_pymc3 within a model context.\n",
            "  FutureWarning,\n"
          ]
        },
        {
          "output_type": "execute_result",
          "data": {
            "text/html": [
              "\n",
              "  <div id=\"df-12f9d57a-57e2-4aa7-a21c-06b9492e9bcc\">\n",
              "    <div class=\"colab-df-container\">\n",
              "      <div>\n",
              "<style scoped>\n",
              "    .dataframe tbody tr th:only-of-type {\n",
              "        vertical-align: middle;\n",
              "    }\n",
              "\n",
              "    .dataframe tbody tr th {\n",
              "        vertical-align: top;\n",
              "    }\n",
              "\n",
              "    .dataframe thead th {\n",
              "        text-align: right;\n",
              "    }\n",
              "</style>\n",
              "<table border=\"1\" class=\"dataframe\">\n",
              "  <thead>\n",
              "    <tr style=\"text-align: right;\">\n",
              "      <th></th>\n",
              "      <th>mean</th>\n",
              "      <th>sd</th>\n",
              "      <th>hdi_3%</th>\n",
              "      <th>hdi_97%</th>\n",
              "      <th>mcse_mean</th>\n",
              "      <th>mcse_sd</th>\n",
              "      <th>ess_bulk</th>\n",
              "      <th>ess_tail</th>\n",
              "      <th>r_hat</th>\n",
              "      <th>odds_ratio</th>\n",
              "      <th>percentage_effect</th>\n",
              "    </tr>\n",
              "  </thead>\n",
              "  <tbody>\n",
              "    <tr>\n",
              "      <th>prior_sig</th>\n",
              "      <td>0.058</td>\n",
              "      <td>0.059</td>\n",
              "      <td>0.014</td>\n",
              "      <td>0.134</td>\n",
              "      <td>0.001</td>\n",
              "      <td>0.001</td>\n",
              "      <td>3007.0</td>\n",
              "      <td>2030.0</td>\n",
              "      <td>1.0</td>\n",
              "      <td>1.059715</td>\n",
              "      <td>5.971500</td>\n",
              "    </tr>\n",
              "    <tr>\n",
              "      <th>mu[2]</th>\n",
              "      <td>0.032</td>\n",
              "      <td>0.003</td>\n",
              "      <td>0.027</td>\n",
              "      <td>0.038</td>\n",
              "      <td>0.000</td>\n",
              "      <td>0.000</td>\n",
              "      <td>3415.0</td>\n",
              "      <td>2434.0</td>\n",
              "      <td>1.0</td>\n",
              "      <td>1.032518</td>\n",
              "      <td>3.251751</td>\n",
              "    </tr>\n",
              "    <tr>\n",
              "      <th>mu[1]</th>\n",
              "      <td>0.029</td>\n",
              "      <td>0.003</td>\n",
              "      <td>0.024</td>\n",
              "      <td>0.034</td>\n",
              "      <td>0.000</td>\n",
              "      <td>0.000</td>\n",
              "      <td>3597.0</td>\n",
              "      <td>2644.0</td>\n",
              "      <td>1.0</td>\n",
              "      <td>1.029425</td>\n",
              "      <td>2.942459</td>\n",
              "    </tr>\n",
              "    <tr>\n",
              "      <th>mu[0]</th>\n",
              "      <td>0.028</td>\n",
              "      <td>0.004</td>\n",
              "      <td>0.021</td>\n",
              "      <td>0.036</td>\n",
              "      <td>0.000</td>\n",
              "      <td>0.000</td>\n",
              "      <td>3980.0</td>\n",
              "      <td>2741.0</td>\n",
              "      <td>1.0</td>\n",
              "      <td>1.028396</td>\n",
              "      <td>2.839568</td>\n",
              "    </tr>\n",
              "  </tbody>\n",
              "</table>\n",
              "</div>\n",
              "      <button class=\"colab-df-convert\" onclick=\"convertToInteractive('df-12f9d57a-57e2-4aa7-a21c-06b9492e9bcc')\"\n",
              "              title=\"Convert this dataframe to an interactive table.\"\n",
              "              style=\"display:none;\">\n",
              "        \n",
              "  <svg xmlns=\"http://www.w3.org/2000/svg\" height=\"24px\"viewBox=\"0 0 24 24\"\n",
              "       width=\"24px\">\n",
              "    <path d=\"M0 0h24v24H0V0z\" fill=\"none\"/>\n",
              "    <path d=\"M18.56 5.44l.94 2.06.94-2.06 2.06-.94-2.06-.94-.94-2.06-.94 2.06-2.06.94zm-11 1L8.5 8.5l.94-2.06 2.06-.94-2.06-.94L8.5 2.5l-.94 2.06-2.06.94zm10 10l.94 2.06.94-2.06 2.06-.94-2.06-.94-.94-2.06-.94 2.06-2.06.94z\"/><path d=\"M17.41 7.96l-1.37-1.37c-.4-.4-.92-.59-1.43-.59-.52 0-1.04.2-1.43.59L10.3 9.45l-7.72 7.72c-.78.78-.78 2.05 0 2.83L4 21.41c.39.39.9.59 1.41.59.51 0 1.02-.2 1.41-.59l7.78-7.78 2.81-2.81c.8-.78.8-2.07 0-2.86zM5.41 20L4 18.59l7.72-7.72 1.47 1.35L5.41 20z\"/>\n",
              "  </svg>\n",
              "      </button>\n",
              "      \n",
              "  <style>\n",
              "    .colab-df-container {\n",
              "      display:flex;\n",
              "      flex-wrap:wrap;\n",
              "      gap: 12px;\n",
              "    }\n",
              "\n",
              "    .colab-df-convert {\n",
              "      background-color: #E8F0FE;\n",
              "      border: none;\n",
              "      border-radius: 50%;\n",
              "      cursor: pointer;\n",
              "      display: none;\n",
              "      fill: #1967D2;\n",
              "      height: 32px;\n",
              "      padding: 0 0 0 0;\n",
              "      width: 32px;\n",
              "    }\n",
              "\n",
              "    .colab-df-convert:hover {\n",
              "      background-color: #E2EBFA;\n",
              "      box-shadow: 0px 1px 2px rgba(60, 64, 67, 0.3), 0px 1px 3px 1px rgba(60, 64, 67, 0.15);\n",
              "      fill: #174EA6;\n",
              "    }\n",
              "\n",
              "    [theme=dark] .colab-df-convert {\n",
              "      background-color: #3B4455;\n",
              "      fill: #D2E3FC;\n",
              "    }\n",
              "\n",
              "    [theme=dark] .colab-df-convert:hover {\n",
              "      background-color: #434B5C;\n",
              "      box-shadow: 0px 1px 3px 1px rgba(0, 0, 0, 0.15);\n",
              "      filter: drop-shadow(0px 1px 2px rgba(0, 0, 0, 0.3));\n",
              "      fill: #FFFFFF;\n",
              "    }\n",
              "  </style>\n",
              "\n",
              "      <script>\n",
              "        const buttonEl =\n",
              "          document.querySelector('#df-12f9d57a-57e2-4aa7-a21c-06b9492e9bcc button.colab-df-convert');\n",
              "        buttonEl.style.display =\n",
              "          google.colab.kernel.accessAllowed ? 'block' : 'none';\n",
              "\n",
              "        async function convertToInteractive(key) {\n",
              "          const element = document.querySelector('#df-12f9d57a-57e2-4aa7-a21c-06b9492e9bcc');\n",
              "          const dataTable =\n",
              "            await google.colab.kernel.invokeFunction('convertToInteractive',\n",
              "                                                     [key], {});\n",
              "          if (!dataTable) return;\n",
              "\n",
              "          const docLinkHtml = 'Like what you see? Visit the ' +\n",
              "            '<a target=\"_blank\" href=https://colab.research.google.com/notebooks/data_table.ipynb>data table notebook</a>'\n",
              "            + ' to learn more about interactive tables.';\n",
              "          element.innerHTML = '';\n",
              "          dataTable['output_type'] = 'display_data';\n",
              "          await google.colab.output.renderOutput(dataTable, element);\n",
              "          const docLink = document.createElement('div');\n",
              "          docLink.innerHTML = docLinkHtml;\n",
              "          element.appendChild(docLink);\n",
              "        }\n",
              "      </script>\n",
              "    </div>\n",
              "  </div>\n",
              "  "
            ],
            "text/plain": [
              "            mean     sd  hdi_3%  ...  r_hat  odds_ratio  percentage_effect\n",
              "prior_sig  0.058  0.059   0.014  ...    1.0    1.059715           5.971500\n",
              "mu[2]      0.032  0.003   0.027  ...    1.0    1.032518           3.251751\n",
              "mu[1]      0.029  0.003   0.024  ...    1.0    1.029425           2.942459\n",
              "mu[0]      0.028  0.004   0.021  ...    1.0    1.028396           2.839568\n",
              "\n",
              "[4 rows x 11 columns]"
            ]
          },
          "metadata": {},
          "execution_count": 34
        }
      ]
    },
    {
      "cell_type": "markdown",
      "source": [
        "We can interpret percentage_effect along those lines: “ If a county is in a high socio-environmental deficiency index, the odds of having high dengue incidence rate increases by 3,25%.”"
      ],
      "metadata": {
        "id": "JsADT11gAYba"
      }
    }
  ]
}
